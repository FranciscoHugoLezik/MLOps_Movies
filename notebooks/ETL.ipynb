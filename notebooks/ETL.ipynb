{
 "cells": [
  {
   "cell_type": "markdown",
   "id": "323d08d0",
   "metadata": {},
   "source": [
    "# ETL"
   ]
  },
  {
   "cell_type": "markdown",
   "id": "cbb1f589",
   "metadata": {},
   "source": [
    "# Libraries"
   ]
  },
  {
   "cell_type": "code",
   "execution_count": 2,
   "id": "7f9b5272",
   "metadata": {},
   "outputs": [],
   "source": [
    "import os\n",
    "import ast\n",
    "\n",
    "import numpy as np\n",
    "import pandas as pd"
   ]
  },
  {
   "cell_type": "markdown",
   "id": "e4bece41",
   "metadata": {},
   "source": [
    "# Extract"
   ]
  },
  {
   "cell_type": "markdown",
   "id": "b3e1e46d",
   "metadata": {},
   "source": [
    "Los dos datasets se descargan de esta dirección:\n",
    "\n",
    "https://drive.google.com/drive/folders/1X_LdCoGTHJDbD28_dJTxaD4fVuQC9Wt5\n",
    "\n",
    "Los datasets deben estar en una carpeta llamada `raw` ubicada en la raiz del proyecto."
   ]
  },
  {
   "cell_type": "code",
   "execution_count": 3,
   "id": "ce8536cb",
   "metadata": {},
   "outputs": [],
   "source": [
    "ruta_raw = os.path.abspath('../raw/')"
   ]
  },
  {
   "cell_type": "markdown",
   "id": "3166998d",
   "metadata": {},
   "source": [
    "## Extract `movies`"
   ]
  },
  {
   "cell_type": "code",
   "execution_count": 4,
   "id": "355a5126",
   "metadata": {},
   "outputs": [
    {
     "name": "stderr",
     "output_type": "stream",
     "text": [
      "C:\\Users\\franc\\AppData\\Local\\Temp\\ipykernel_20768\\2227159362.py:1: DtypeWarning: Columns (10) have mixed types. Specify dtype option on import or set low_memory=False.\n",
      "  movies = pd.read_csv(\n"
     ]
    }
   ],
   "source": [
    "movies = pd.read_csv(\n",
    "    os.path.join(\n",
    "        ruta_raw, 'movies_dataset.csv'))"
   ]
  },
  {
   "cell_type": "code",
   "execution_count": 5,
   "id": "5c83bf42",
   "metadata": {},
   "outputs": [
    {
     "data": {
      "text/html": [
       "<div>\n",
       "<style scoped>\n",
       "    .dataframe tbody tr th:only-of-type {\n",
       "        vertical-align: middle;\n",
       "    }\n",
       "\n",
       "    .dataframe tbody tr th {\n",
       "        vertical-align: top;\n",
       "    }\n",
       "\n",
       "    .dataframe thead th {\n",
       "        text-align: right;\n",
       "    }\n",
       "</style>\n",
       "<table border=\"1\" class=\"dataframe\">\n",
       "  <thead>\n",
       "    <tr style=\"text-align: right;\">\n",
       "      <th></th>\n",
       "      <th>0</th>\n",
       "      <th>1</th>\n",
       "      <th>2</th>\n",
       "      <th>3</th>\n",
       "      <th>4</th>\n",
       "    </tr>\n",
       "  </thead>\n",
       "  <tbody>\n",
       "    <tr>\n",
       "      <th>adult</th>\n",
       "      <td>False</td>\n",
       "      <td>False</td>\n",
       "      <td>False</td>\n",
       "      <td>False</td>\n",
       "      <td>False</td>\n",
       "    </tr>\n",
       "    <tr>\n",
       "      <th>belongs_to_collection</th>\n",
       "      <td>{'id': 10194, 'name': 'Toy Story Collection', ...</td>\n",
       "      <td>NaN</td>\n",
       "      <td>{'id': 119050, 'name': 'Grumpy Old Men Collect...</td>\n",
       "      <td>NaN</td>\n",
       "      <td>{'id': 96871, 'name': 'Father of the Bride Col...</td>\n",
       "    </tr>\n",
       "    <tr>\n",
       "      <th>budget</th>\n",
       "      <td>30000000</td>\n",
       "      <td>65000000</td>\n",
       "      <td>0</td>\n",
       "      <td>16000000</td>\n",
       "      <td>0</td>\n",
       "    </tr>\n",
       "    <tr>\n",
       "      <th>genres</th>\n",
       "      <td>[{'id': 16, 'name': 'Animation'}, {'id': 35, '...</td>\n",
       "      <td>[{'id': 12, 'name': 'Adventure'}, {'id': 14, '...</td>\n",
       "      <td>[{'id': 10749, 'name': 'Romance'}, {'id': 35, ...</td>\n",
       "      <td>[{'id': 35, 'name': 'Comedy'}, {'id': 18, 'nam...</td>\n",
       "      <td>[{'id': 35, 'name': 'Comedy'}]</td>\n",
       "    </tr>\n",
       "    <tr>\n",
       "      <th>homepage</th>\n",
       "      <td>http://toystory.disney.com/toy-story</td>\n",
       "      <td>NaN</td>\n",
       "      <td>NaN</td>\n",
       "      <td>NaN</td>\n",
       "      <td>NaN</td>\n",
       "    </tr>\n",
       "    <tr>\n",
       "      <th>id</th>\n",
       "      <td>862</td>\n",
       "      <td>8844</td>\n",
       "      <td>15602</td>\n",
       "      <td>31357</td>\n",
       "      <td>11862</td>\n",
       "    </tr>\n",
       "    <tr>\n",
       "      <th>imdb_id</th>\n",
       "      <td>tt0114709</td>\n",
       "      <td>tt0113497</td>\n",
       "      <td>tt0113228</td>\n",
       "      <td>tt0114885</td>\n",
       "      <td>tt0113041</td>\n",
       "    </tr>\n",
       "    <tr>\n",
       "      <th>original_language</th>\n",
       "      <td>en</td>\n",
       "      <td>en</td>\n",
       "      <td>en</td>\n",
       "      <td>en</td>\n",
       "      <td>en</td>\n",
       "    </tr>\n",
       "    <tr>\n",
       "      <th>original_title</th>\n",
       "      <td>Toy Story</td>\n",
       "      <td>Jumanji</td>\n",
       "      <td>Grumpier Old Men</td>\n",
       "      <td>Waiting to Exhale</td>\n",
       "      <td>Father of the Bride Part II</td>\n",
       "    </tr>\n",
       "    <tr>\n",
       "      <th>overview</th>\n",
       "      <td>Led by Woody, Andy's toys live happily in his ...</td>\n",
       "      <td>When siblings Judy and Peter discover an encha...</td>\n",
       "      <td>A family wedding reignites the ancient feud be...</td>\n",
       "      <td>Cheated on, mistreated and stepped on, the wom...</td>\n",
       "      <td>Just when George Banks has recovered from his ...</td>\n",
       "    </tr>\n",
       "    <tr>\n",
       "      <th>popularity</th>\n",
       "      <td>21.946943</td>\n",
       "      <td>17.015539</td>\n",
       "      <td>11.7129</td>\n",
       "      <td>3.859495</td>\n",
       "      <td>8.387519</td>\n",
       "    </tr>\n",
       "    <tr>\n",
       "      <th>poster_path</th>\n",
       "      <td>/rhIRbceoE9lR4veEXuwCC2wARtG.jpg</td>\n",
       "      <td>/vzmL6fP7aPKNKPRTFnZmiUfciyV.jpg</td>\n",
       "      <td>/6ksm1sjKMFLbO7UY2i6G1ju9SML.jpg</td>\n",
       "      <td>/16XOMpEaLWkrcPqSQqhTmeJuqQl.jpg</td>\n",
       "      <td>/e64sOI48hQXyru7naBFyssKFxVd.jpg</td>\n",
       "    </tr>\n",
       "    <tr>\n",
       "      <th>production_companies</th>\n",
       "      <td>[{'name': 'Pixar Animation Studios', 'id': 3}]</td>\n",
       "      <td>[{'name': 'TriStar Pictures', 'id': 559}, {'na...</td>\n",
       "      <td>[{'name': 'Warner Bros.', 'id': 6194}, {'name'...</td>\n",
       "      <td>[{'name': 'Twentieth Century Fox Film Corporat...</td>\n",
       "      <td>[{'name': 'Sandollar Productions', 'id': 5842}...</td>\n",
       "    </tr>\n",
       "    <tr>\n",
       "      <th>production_countries</th>\n",
       "      <td>[{'iso_3166_1': 'US', 'name': 'United States o...</td>\n",
       "      <td>[{'iso_3166_1': 'US', 'name': 'United States o...</td>\n",
       "      <td>[{'iso_3166_1': 'US', 'name': 'United States o...</td>\n",
       "      <td>[{'iso_3166_1': 'US', 'name': 'United States o...</td>\n",
       "      <td>[{'iso_3166_1': 'US', 'name': 'United States o...</td>\n",
       "    </tr>\n",
       "    <tr>\n",
       "      <th>release_date</th>\n",
       "      <td>1995-10-30</td>\n",
       "      <td>1995-12-15</td>\n",
       "      <td>1995-12-22</td>\n",
       "      <td>1995-12-22</td>\n",
       "      <td>1995-02-10</td>\n",
       "    </tr>\n",
       "    <tr>\n",
       "      <th>revenue</th>\n",
       "      <td>373554033.0</td>\n",
       "      <td>262797249.0</td>\n",
       "      <td>0.0</td>\n",
       "      <td>81452156.0</td>\n",
       "      <td>76578911.0</td>\n",
       "    </tr>\n",
       "    <tr>\n",
       "      <th>runtime</th>\n",
       "      <td>81.0</td>\n",
       "      <td>104.0</td>\n",
       "      <td>101.0</td>\n",
       "      <td>127.0</td>\n",
       "      <td>106.0</td>\n",
       "    </tr>\n",
       "    <tr>\n",
       "      <th>spoken_languages</th>\n",
       "      <td>[{'iso_639_1': 'en', 'name': 'English'}]</td>\n",
       "      <td>[{'iso_639_1': 'en', 'name': 'English'}, {'iso...</td>\n",
       "      <td>[{'iso_639_1': 'en', 'name': 'English'}]</td>\n",
       "      <td>[{'iso_639_1': 'en', 'name': 'English'}]</td>\n",
       "      <td>[{'iso_639_1': 'en', 'name': 'English'}]</td>\n",
       "    </tr>\n",
       "    <tr>\n",
       "      <th>status</th>\n",
       "      <td>Released</td>\n",
       "      <td>Released</td>\n",
       "      <td>Released</td>\n",
       "      <td>Released</td>\n",
       "      <td>Released</td>\n",
       "    </tr>\n",
       "    <tr>\n",
       "      <th>tagline</th>\n",
       "      <td>NaN</td>\n",
       "      <td>Roll the dice and unleash the excitement!</td>\n",
       "      <td>Still Yelling. Still Fighting. Still Ready for...</td>\n",
       "      <td>Friends are the people who let you be yourself...</td>\n",
       "      <td>Just When His World Is Back To Normal... He's ...</td>\n",
       "    </tr>\n",
       "    <tr>\n",
       "      <th>title</th>\n",
       "      <td>Toy Story</td>\n",
       "      <td>Jumanji</td>\n",
       "      <td>Grumpier Old Men</td>\n",
       "      <td>Waiting to Exhale</td>\n",
       "      <td>Father of the Bride Part II</td>\n",
       "    </tr>\n",
       "    <tr>\n",
       "      <th>video</th>\n",
       "      <td>False</td>\n",
       "      <td>False</td>\n",
       "      <td>False</td>\n",
       "      <td>False</td>\n",
       "      <td>False</td>\n",
       "    </tr>\n",
       "    <tr>\n",
       "      <th>vote_average</th>\n",
       "      <td>7.7</td>\n",
       "      <td>6.9</td>\n",
       "      <td>6.5</td>\n",
       "      <td>6.1</td>\n",
       "      <td>5.7</td>\n",
       "    </tr>\n",
       "    <tr>\n",
       "      <th>vote_count</th>\n",
       "      <td>5415.0</td>\n",
       "      <td>2413.0</td>\n",
       "      <td>92.0</td>\n",
       "      <td>34.0</td>\n",
       "      <td>173.0</td>\n",
       "    </tr>\n",
       "  </tbody>\n",
       "</table>\n",
       "</div>"
      ],
      "text/plain": [
       "                                                                       0  \\\n",
       "adult                                                              False   \n",
       "belongs_to_collection  {'id': 10194, 'name': 'Toy Story Collection', ...   \n",
       "budget                                                          30000000   \n",
       "genres                 [{'id': 16, 'name': 'Animation'}, {'id': 35, '...   \n",
       "homepage                            http://toystory.disney.com/toy-story   \n",
       "id                                                                   862   \n",
       "imdb_id                                                        tt0114709   \n",
       "original_language                                                     en   \n",
       "original_title                                                 Toy Story   \n",
       "overview               Led by Woody, Andy's toys live happily in his ...   \n",
       "popularity                                                     21.946943   \n",
       "poster_path                             /rhIRbceoE9lR4veEXuwCC2wARtG.jpg   \n",
       "production_companies      [{'name': 'Pixar Animation Studios', 'id': 3}]   \n",
       "production_countries   [{'iso_3166_1': 'US', 'name': 'United States o...   \n",
       "release_date                                                  1995-10-30   \n",
       "revenue                                                      373554033.0   \n",
       "runtime                                                             81.0   \n",
       "spoken_languages                [{'iso_639_1': 'en', 'name': 'English'}]   \n",
       "status                                                          Released   \n",
       "tagline                                                              NaN   \n",
       "title                                                          Toy Story   \n",
       "video                                                              False   \n",
       "vote_average                                                         7.7   \n",
       "vote_count                                                        5415.0   \n",
       "\n",
       "                                                                       1  \\\n",
       "adult                                                              False   \n",
       "belongs_to_collection                                                NaN   \n",
       "budget                                                          65000000   \n",
       "genres                 [{'id': 12, 'name': 'Adventure'}, {'id': 14, '...   \n",
       "homepage                                                             NaN   \n",
       "id                                                                  8844   \n",
       "imdb_id                                                        tt0113497   \n",
       "original_language                                                     en   \n",
       "original_title                                                   Jumanji   \n",
       "overview               When siblings Judy and Peter discover an encha...   \n",
       "popularity                                                     17.015539   \n",
       "poster_path                             /vzmL6fP7aPKNKPRTFnZmiUfciyV.jpg   \n",
       "production_companies   [{'name': 'TriStar Pictures', 'id': 559}, {'na...   \n",
       "production_countries   [{'iso_3166_1': 'US', 'name': 'United States o...   \n",
       "release_date                                                  1995-12-15   \n",
       "revenue                                                      262797249.0   \n",
       "runtime                                                            104.0   \n",
       "spoken_languages       [{'iso_639_1': 'en', 'name': 'English'}, {'iso...   \n",
       "status                                                          Released   \n",
       "tagline                        Roll the dice and unleash the excitement!   \n",
       "title                                                            Jumanji   \n",
       "video                                                              False   \n",
       "vote_average                                                         6.9   \n",
       "vote_count                                                        2413.0   \n",
       "\n",
       "                                                                       2  \\\n",
       "adult                                                              False   \n",
       "belongs_to_collection  {'id': 119050, 'name': 'Grumpy Old Men Collect...   \n",
       "budget                                                                 0   \n",
       "genres                 [{'id': 10749, 'name': 'Romance'}, {'id': 35, ...   \n",
       "homepage                                                             NaN   \n",
       "id                                                                 15602   \n",
       "imdb_id                                                        tt0113228   \n",
       "original_language                                                     en   \n",
       "original_title                                          Grumpier Old Men   \n",
       "overview               A family wedding reignites the ancient feud be...   \n",
       "popularity                                                       11.7129   \n",
       "poster_path                             /6ksm1sjKMFLbO7UY2i6G1ju9SML.jpg   \n",
       "production_companies   [{'name': 'Warner Bros.', 'id': 6194}, {'name'...   \n",
       "production_countries   [{'iso_3166_1': 'US', 'name': 'United States o...   \n",
       "release_date                                                  1995-12-22   \n",
       "revenue                                                              0.0   \n",
       "runtime                                                            101.0   \n",
       "spoken_languages                [{'iso_639_1': 'en', 'name': 'English'}]   \n",
       "status                                                          Released   \n",
       "tagline                Still Yelling. Still Fighting. Still Ready for...   \n",
       "title                                                   Grumpier Old Men   \n",
       "video                                                              False   \n",
       "vote_average                                                         6.5   \n",
       "vote_count                                                          92.0   \n",
       "\n",
       "                                                                       3  \\\n",
       "adult                                                              False   \n",
       "belongs_to_collection                                                NaN   \n",
       "budget                                                          16000000   \n",
       "genres                 [{'id': 35, 'name': 'Comedy'}, {'id': 18, 'nam...   \n",
       "homepage                                                             NaN   \n",
       "id                                                                 31357   \n",
       "imdb_id                                                        tt0114885   \n",
       "original_language                                                     en   \n",
       "original_title                                         Waiting to Exhale   \n",
       "overview               Cheated on, mistreated and stepped on, the wom...   \n",
       "popularity                                                      3.859495   \n",
       "poster_path                             /16XOMpEaLWkrcPqSQqhTmeJuqQl.jpg   \n",
       "production_companies   [{'name': 'Twentieth Century Fox Film Corporat...   \n",
       "production_countries   [{'iso_3166_1': 'US', 'name': 'United States o...   \n",
       "release_date                                                  1995-12-22   \n",
       "revenue                                                       81452156.0   \n",
       "runtime                                                            127.0   \n",
       "spoken_languages                [{'iso_639_1': 'en', 'name': 'English'}]   \n",
       "status                                                          Released   \n",
       "tagline                Friends are the people who let you be yourself...   \n",
       "title                                                  Waiting to Exhale   \n",
       "video                                                              False   \n",
       "vote_average                                                         6.1   \n",
       "vote_count                                                          34.0   \n",
       "\n",
       "                                                                       4  \n",
       "adult                                                              False  \n",
       "belongs_to_collection  {'id': 96871, 'name': 'Father of the Bride Col...  \n",
       "budget                                                                 0  \n",
       "genres                                    [{'id': 35, 'name': 'Comedy'}]  \n",
       "homepage                                                             NaN  \n",
       "id                                                                 11862  \n",
       "imdb_id                                                        tt0113041  \n",
       "original_language                                                     en  \n",
       "original_title                               Father of the Bride Part II  \n",
       "overview               Just when George Banks has recovered from his ...  \n",
       "popularity                                                      8.387519  \n",
       "poster_path                             /e64sOI48hQXyru7naBFyssKFxVd.jpg  \n",
       "production_companies   [{'name': 'Sandollar Productions', 'id': 5842}...  \n",
       "production_countries   [{'iso_3166_1': 'US', 'name': 'United States o...  \n",
       "release_date                                                  1995-02-10  \n",
       "revenue                                                       76578911.0  \n",
       "runtime                                                            106.0  \n",
       "spoken_languages                [{'iso_639_1': 'en', 'name': 'English'}]  \n",
       "status                                                          Released  \n",
       "tagline                Just When His World Is Back To Normal... He's ...  \n",
       "title                                        Father of the Bride Part II  \n",
       "video                                                              False  \n",
       "vote_average                                                         5.7  \n",
       "vote_count                                                         173.0  "
      ]
     },
     "execution_count": 5,
     "metadata": {},
     "output_type": "execute_result"
    }
   ],
   "source": [
    "movies.head().T"
   ]
  },
  {
   "cell_type": "markdown",
   "id": "c6e11aa0",
   "metadata": {},
   "source": [
    "## Extract `credits`"
   ]
  },
  {
   "cell_type": "code",
   "execution_count": 6,
   "id": "0c06e9b4",
   "metadata": {},
   "outputs": [],
   "source": [
    "credits_df = pd.read_csv(\n",
    "    os.path.join(\n",
    "        ruta_raw, 'credits.csv'))"
   ]
  },
  {
   "cell_type": "code",
   "execution_count": 7,
   "id": "182b263a",
   "metadata": {},
   "outputs": [
    {
     "data": {
      "text/html": [
       "<div>\n",
       "<style scoped>\n",
       "    .dataframe tbody tr th:only-of-type {\n",
       "        vertical-align: middle;\n",
       "    }\n",
       "\n",
       "    .dataframe tbody tr th {\n",
       "        vertical-align: top;\n",
       "    }\n",
       "\n",
       "    .dataframe thead th {\n",
       "        text-align: right;\n",
       "    }\n",
       "</style>\n",
       "<table border=\"1\" class=\"dataframe\">\n",
       "  <thead>\n",
       "    <tr style=\"text-align: right;\">\n",
       "      <th></th>\n",
       "      <th>cast</th>\n",
       "      <th>crew</th>\n",
       "      <th>id</th>\n",
       "    </tr>\n",
       "  </thead>\n",
       "  <tbody>\n",
       "    <tr>\n",
       "      <th>0</th>\n",
       "      <td>[{'cast_id': 14, 'character': 'Woody (voice)',...</td>\n",
       "      <td>[{'credit_id': '52fe4284c3a36847f8024f49', 'de...</td>\n",
       "      <td>862</td>\n",
       "    </tr>\n",
       "    <tr>\n",
       "      <th>1</th>\n",
       "      <td>[{'cast_id': 1, 'character': 'Alan Parrish', '...</td>\n",
       "      <td>[{'credit_id': '52fe44bfc3a36847f80a7cd1', 'de...</td>\n",
       "      <td>8844</td>\n",
       "    </tr>\n",
       "    <tr>\n",
       "      <th>2</th>\n",
       "      <td>[{'cast_id': 2, 'character': 'Max Goldman', 'c...</td>\n",
       "      <td>[{'credit_id': '52fe466a9251416c75077a89', 'de...</td>\n",
       "      <td>15602</td>\n",
       "    </tr>\n",
       "    <tr>\n",
       "      <th>3</th>\n",
       "      <td>[{'cast_id': 1, 'character': \"Savannah 'Vannah...</td>\n",
       "      <td>[{'credit_id': '52fe44779251416c91011acb', 'de...</td>\n",
       "      <td>31357</td>\n",
       "    </tr>\n",
       "    <tr>\n",
       "      <th>4</th>\n",
       "      <td>[{'cast_id': 1, 'character': 'George Banks', '...</td>\n",
       "      <td>[{'credit_id': '52fe44959251416c75039ed7', 'de...</td>\n",
       "      <td>11862</td>\n",
       "    </tr>\n",
       "  </tbody>\n",
       "</table>\n",
       "</div>"
      ],
      "text/plain": [
       "                                                cast  \\\n",
       "0  [{'cast_id': 14, 'character': 'Woody (voice)',...   \n",
       "1  [{'cast_id': 1, 'character': 'Alan Parrish', '...   \n",
       "2  [{'cast_id': 2, 'character': 'Max Goldman', 'c...   \n",
       "3  [{'cast_id': 1, 'character': \"Savannah 'Vannah...   \n",
       "4  [{'cast_id': 1, 'character': 'George Banks', '...   \n",
       "\n",
       "                                                crew     id  \n",
       "0  [{'credit_id': '52fe4284c3a36847f8024f49', 'de...    862  \n",
       "1  [{'credit_id': '52fe44bfc3a36847f80a7cd1', 'de...   8844  \n",
       "2  [{'credit_id': '52fe466a9251416c75077a89', 'de...  15602  \n",
       "3  [{'credit_id': '52fe44779251416c91011acb', 'de...  31357  \n",
       "4  [{'credit_id': '52fe44959251416c75039ed7', 'de...  11862  "
      ]
     },
     "execution_count": 7,
     "metadata": {},
     "output_type": "execute_result"
    }
   ],
   "source": [
    "credits_df.head()"
   ]
  },
  {
   "cell_type": "markdown",
   "id": "345e6be7",
   "metadata": {},
   "source": [
    "# Transform"
   ]
  },
  {
   "cell_type": "markdown",
   "id": "99de3e31",
   "metadata": {},
   "source": [
    "Transformaciones a realizar:\n",
    "\n",
    "- Algunos campos, como belongs_to_collection, production_companies y otros (ver diccionario de datos) están anidados, esto es o bien tienen un diccionario o una lista como valores en cada fila, ¡deberán desanidarlos para poder y unirlos al dataset de nuevo hacer alguna de las consultas de la API! O bien buscar la manera de acceder a esos datos sin desanidarlos.\n",
    "\n",
    "- Los valores nulos de los campos revenue, budget deben ser rellenados por el número 0.\n",
    "\n",
    "- Los valores nulos del campo release date deben eliminarse.\n",
    "\n",
    "- De haber fechas, deberán tener el formato AAAA-mm-dd, además deberán crear la columna release_year donde extraerán el año de la fecha de estreno.\n",
    "\n",
    "- Crear la columna con el retorno de inversión, llamada return con los campos revenue y budget, dividiendo estas dos últimas revenue / budget, cuando no hay datos disponibles para calcularlo, deberá tomar el valor 0.\n",
    "\n",
    "- Eliminar las columnas que no serán utilizadas, video,imdb_id,adult,original_title,poster_path y homepage."
   ]
  },
  {
   "cell_type": "markdown",
   "id": "56210129",
   "metadata": {},
   "source": [
    "## Transform movies"
   ]
  },
  {
   "cell_type": "code",
   "execution_count": 8,
   "id": "9b033218",
   "metadata": {},
   "outputs": [
    {
     "data": {
      "text/html": [
       "<div>\n",
       "<style scoped>\n",
       "    .dataframe tbody tr th:only-of-type {\n",
       "        vertical-align: middle;\n",
       "    }\n",
       "\n",
       "    .dataframe tbody tr th {\n",
       "        vertical-align: top;\n",
       "    }\n",
       "\n",
       "    .dataframe thead th {\n",
       "        text-align: right;\n",
       "    }\n",
       "</style>\n",
       "<table border=\"1\" class=\"dataframe\">\n",
       "  <thead>\n",
       "    <tr style=\"text-align: right;\">\n",
       "      <th></th>\n",
       "      <th>0</th>\n",
       "    </tr>\n",
       "  </thead>\n",
       "  <tbody>\n",
       "    <tr>\n",
       "      <th>adult</th>\n",
       "      <td>False</td>\n",
       "    </tr>\n",
       "    <tr>\n",
       "      <th>belongs_to_collection</th>\n",
       "      <td>{'id': 10194, 'name': 'Toy Story Collection', ...</td>\n",
       "    </tr>\n",
       "    <tr>\n",
       "      <th>budget</th>\n",
       "      <td>30000000</td>\n",
       "    </tr>\n",
       "    <tr>\n",
       "      <th>genres</th>\n",
       "      <td>[{'id': 16, 'name': 'Animation'}, {'id': 35, '...</td>\n",
       "    </tr>\n",
       "    <tr>\n",
       "      <th>homepage</th>\n",
       "      <td>http://toystory.disney.com/toy-story</td>\n",
       "    </tr>\n",
       "    <tr>\n",
       "      <th>id</th>\n",
       "      <td>862</td>\n",
       "    </tr>\n",
       "    <tr>\n",
       "      <th>imdb_id</th>\n",
       "      <td>tt0114709</td>\n",
       "    </tr>\n",
       "    <tr>\n",
       "      <th>original_language</th>\n",
       "      <td>en</td>\n",
       "    </tr>\n",
       "    <tr>\n",
       "      <th>original_title</th>\n",
       "      <td>Toy Story</td>\n",
       "    </tr>\n",
       "    <tr>\n",
       "      <th>overview</th>\n",
       "      <td>Led by Woody, Andy's toys live happily in his ...</td>\n",
       "    </tr>\n",
       "    <tr>\n",
       "      <th>popularity</th>\n",
       "      <td>21.946943</td>\n",
       "    </tr>\n",
       "    <tr>\n",
       "      <th>poster_path</th>\n",
       "      <td>/rhIRbceoE9lR4veEXuwCC2wARtG.jpg</td>\n",
       "    </tr>\n",
       "    <tr>\n",
       "      <th>production_companies</th>\n",
       "      <td>[{'name': 'Pixar Animation Studios', 'id': 3}]</td>\n",
       "    </tr>\n",
       "    <tr>\n",
       "      <th>production_countries</th>\n",
       "      <td>[{'iso_3166_1': 'US', 'name': 'United States o...</td>\n",
       "    </tr>\n",
       "    <tr>\n",
       "      <th>release_date</th>\n",
       "      <td>1995-10-30</td>\n",
       "    </tr>\n",
       "    <tr>\n",
       "      <th>revenue</th>\n",
       "      <td>373554033.0</td>\n",
       "    </tr>\n",
       "    <tr>\n",
       "      <th>runtime</th>\n",
       "      <td>81.0</td>\n",
       "    </tr>\n",
       "    <tr>\n",
       "      <th>spoken_languages</th>\n",
       "      <td>[{'iso_639_1': 'en', 'name': 'English'}]</td>\n",
       "    </tr>\n",
       "    <tr>\n",
       "      <th>status</th>\n",
       "      <td>Released</td>\n",
       "    </tr>\n",
       "    <tr>\n",
       "      <th>tagline</th>\n",
       "      <td>NaN</td>\n",
       "    </tr>\n",
       "    <tr>\n",
       "      <th>title</th>\n",
       "      <td>Toy Story</td>\n",
       "    </tr>\n",
       "    <tr>\n",
       "      <th>video</th>\n",
       "      <td>False</td>\n",
       "    </tr>\n",
       "    <tr>\n",
       "      <th>vote_average</th>\n",
       "      <td>7.7</td>\n",
       "    </tr>\n",
       "    <tr>\n",
       "      <th>vote_count</th>\n",
       "      <td>5415.0</td>\n",
       "    </tr>\n",
       "  </tbody>\n",
       "</table>\n",
       "</div>"
      ],
      "text/plain": [
       "                                                                       0\n",
       "adult                                                              False\n",
       "belongs_to_collection  {'id': 10194, 'name': 'Toy Story Collection', ...\n",
       "budget                                                          30000000\n",
       "genres                 [{'id': 16, 'name': 'Animation'}, {'id': 35, '...\n",
       "homepage                            http://toystory.disney.com/toy-story\n",
       "id                                                                   862\n",
       "imdb_id                                                        tt0114709\n",
       "original_language                                                     en\n",
       "original_title                                                 Toy Story\n",
       "overview               Led by Woody, Andy's toys live happily in his ...\n",
       "popularity                                                     21.946943\n",
       "poster_path                             /rhIRbceoE9lR4veEXuwCC2wARtG.jpg\n",
       "production_companies      [{'name': 'Pixar Animation Studios', 'id': 3}]\n",
       "production_countries   [{'iso_3166_1': 'US', 'name': 'United States o...\n",
       "release_date                                                  1995-10-30\n",
       "revenue                                                      373554033.0\n",
       "runtime                                                             81.0\n",
       "spoken_languages                [{'iso_639_1': 'en', 'name': 'English'}]\n",
       "status                                                          Released\n",
       "tagline                                                              NaN\n",
       "title                                                          Toy Story\n",
       "video                                                              False\n",
       "vote_average                                                         7.7\n",
       "vote_count                                                        5415.0"
      ]
     },
     "execution_count": 8,
     "metadata": {},
     "output_type": "execute_result"
    }
   ],
   "source": [
    "movies.head(1).T"
   ]
  },
  {
   "cell_type": "markdown",
   "id": "6e953d5d",
   "metadata": {},
   "source": [
    "### Unnesting"
   ]
  },
  {
   "cell_type": "markdown",
   "id": "0a4b23e2",
   "metadata": {},
   "source": [
    "#### belongs_to_collection"
   ]
  },
  {
   "cell_type": "code",
   "execution_count": 9,
   "id": "f084f259",
   "metadata": {},
   "outputs": [],
   "source": [
    "belongs_to_collection = movies[['id', 'belongs_to_collection']].copy()\n",
    "\n",
    "movies = movies.drop(columns=['belongs_to_collection'])"
   ]
  },
  {
   "cell_type": "code",
   "execution_count": 10,
   "id": "27669cd6",
   "metadata": {},
   "outputs": [
    {
     "name": "stdout",
     "output_type": "stream",
     "text": [
      "<class 'pandas.core.frame.DataFrame'>\n",
      "RangeIndex: 45466 entries, 0 to 45465\n",
      "Data columns (total 2 columns):\n",
      " #   Column                 Non-Null Count  Dtype \n",
      "---  ------                 --------------  ----- \n",
      " 0   id                     45466 non-null  object\n",
      " 1   belongs_to_collection  4494 non-null   object\n",
      "dtypes: object(2)\n",
      "memory usage: 710.5+ KB\n"
     ]
    }
   ],
   "source": [
    "belongs_to_collection.info()"
   ]
  },
  {
   "cell_type": "code",
   "execution_count": 11,
   "id": "63e49cec",
   "metadata": {},
   "outputs": [
    {
     "data": {
      "text/html": [
       "<div>\n",
       "<style scoped>\n",
       "    .dataframe tbody tr th:only-of-type {\n",
       "        vertical-align: middle;\n",
       "    }\n",
       "\n",
       "    .dataframe tbody tr th {\n",
       "        vertical-align: top;\n",
       "    }\n",
       "\n",
       "    .dataframe thead th {\n",
       "        text-align: right;\n",
       "    }\n",
       "</style>\n",
       "<table border=\"1\" class=\"dataframe\">\n",
       "  <thead>\n",
       "    <tr style=\"text-align: right;\">\n",
       "      <th></th>\n",
       "      <th>id</th>\n",
       "      <th>belongs_to_collection</th>\n",
       "    </tr>\n",
       "  </thead>\n",
       "  <tbody>\n",
       "    <tr>\n",
       "      <th>0</th>\n",
       "      <td>862</td>\n",
       "      <td>{'id': 10194, 'name': 'Toy Story Collection', ...</td>\n",
       "    </tr>\n",
       "    <tr>\n",
       "      <th>1</th>\n",
       "      <td>8844</td>\n",
       "      <td>NaN</td>\n",
       "    </tr>\n",
       "    <tr>\n",
       "      <th>2</th>\n",
       "      <td>15602</td>\n",
       "      <td>{'id': 119050, 'name': 'Grumpy Old Men Collect...</td>\n",
       "    </tr>\n",
       "    <tr>\n",
       "      <th>3</th>\n",
       "      <td>31357</td>\n",
       "      <td>NaN</td>\n",
       "    </tr>\n",
       "    <tr>\n",
       "      <th>4</th>\n",
       "      <td>11862</td>\n",
       "      <td>{'id': 96871, 'name': 'Father of the Bride Col...</td>\n",
       "    </tr>\n",
       "  </tbody>\n",
       "</table>\n",
       "</div>"
      ],
      "text/plain": [
       "      id                              belongs_to_collection\n",
       "0    862  {'id': 10194, 'name': 'Toy Story Collection', ...\n",
       "1   8844                                                NaN\n",
       "2  15602  {'id': 119050, 'name': 'Grumpy Old Men Collect...\n",
       "3  31357                                                NaN\n",
       "4  11862  {'id': 96871, 'name': 'Father of the Bride Col..."
      ]
     },
     "execution_count": 11,
     "metadata": {},
     "output_type": "execute_result"
    }
   ],
   "source": [
    "belongs_to_collection.head(5)"
   ]
  },
  {
   "cell_type": "code",
   "execution_count": 12,
   "id": "af40c4da",
   "metadata": {},
   "outputs": [],
   "source": [
    "belongs_to_collection.rename(\n",
    "    columns={\n",
    "        'id': 'movie_id',\n",
    "        'belongs_to_collection': 'collection_name'\n",
    "    },\n",
    "    inplace=True)"
   ]
  },
  {
   "cell_type": "code",
   "execution_count": 13,
   "id": "db331725",
   "metadata": {},
   "outputs": [
    {
     "data": {
      "text/html": [
       "<div>\n",
       "<style scoped>\n",
       "    .dataframe tbody tr th:only-of-type {\n",
       "        vertical-align: middle;\n",
       "    }\n",
       "\n",
       "    .dataframe tbody tr th {\n",
       "        vertical-align: top;\n",
       "    }\n",
       "\n",
       "    .dataframe thead th {\n",
       "        text-align: right;\n",
       "    }\n",
       "</style>\n",
       "<table border=\"1\" class=\"dataframe\">\n",
       "  <thead>\n",
       "    <tr style=\"text-align: right;\">\n",
       "      <th></th>\n",
       "      <th>movie_id</th>\n",
       "      <th>collection_name</th>\n",
       "    </tr>\n",
       "  </thead>\n",
       "  <tbody>\n",
       "    <tr>\n",
       "      <th>0</th>\n",
       "      <td>862</td>\n",
       "      <td>{'id': 10194, 'name': 'Toy Story Collection', ...</td>\n",
       "    </tr>\n",
       "    <tr>\n",
       "      <th>1</th>\n",
       "      <td>8844</td>\n",
       "      <td>NaN</td>\n",
       "    </tr>\n",
       "    <tr>\n",
       "      <th>2</th>\n",
       "      <td>15602</td>\n",
       "      <td>{'id': 119050, 'name': 'Grumpy Old Men Collect...</td>\n",
       "    </tr>\n",
       "    <tr>\n",
       "      <th>3</th>\n",
       "      <td>31357</td>\n",
       "      <td>NaN</td>\n",
       "    </tr>\n",
       "    <tr>\n",
       "      <th>4</th>\n",
       "      <td>11862</td>\n",
       "      <td>{'id': 96871, 'name': 'Father of the Bride Col...</td>\n",
       "    </tr>\n",
       "  </tbody>\n",
       "</table>\n",
       "</div>"
      ],
      "text/plain": [
       "  movie_id                                    collection_name\n",
       "0      862  {'id': 10194, 'name': 'Toy Story Collection', ...\n",
       "1     8844                                                NaN\n",
       "2    15602  {'id': 119050, 'name': 'Grumpy Old Men Collect...\n",
       "3    31357                                                NaN\n",
       "4    11862  {'id': 96871, 'name': 'Father of the Bride Col..."
      ]
     },
     "execution_count": 13,
     "metadata": {},
     "output_type": "execute_result"
    }
   ],
   "source": [
    "belongs_to_collection.head(5)"
   ]
  },
  {
   "cell_type": "code",
   "execution_count": 14,
   "id": "a380e04a",
   "metadata": {},
   "outputs": [],
   "source": [
    "belongs_to_collection['collection_name'] = belongs_to_collection['collection_name'].apply(lambda x: ast.literal_eval(x) if pd.notna(x) else x)\n",
    "\n",
    "new_columns = pd.json_normalize(belongs_to_collection['collection_name'])\n",
    "\n",
    "belongs_to_collection = belongs_to_collection.join(new_columns)\n",
    "\n",
    "belongs_to_collection.drop(columns=['collection_name'], inplace=True)\n",
    "\n",
    "belongs_to_collection.rename(\n",
    "    columns={\n",
    "        'id': 'collection_id',\n",
    "        'name': 'collection_name'\n",
    "    },\n",
    "    inplace=True)"
   ]
  },
  {
   "cell_type": "code",
   "execution_count": 15,
   "id": "4274483b",
   "metadata": {},
   "outputs": [
    {
     "name": "stdout",
     "output_type": "stream",
     "text": [
      "<class 'pandas.core.frame.DataFrame'>\n",
      "RangeIndex: 45466 entries, 0 to 45465\n",
      "Data columns (total 5 columns):\n",
      " #   Column           Non-Null Count  Dtype  \n",
      "---  ------           --------------  -----  \n",
      " 0   movie_id         45466 non-null  object \n",
      " 1   collection_id    4491 non-null   float64\n",
      " 2   collection_name  4491 non-null   object \n",
      " 3   poster_path      3948 non-null   object \n",
      " 4   backdrop_path    3263 non-null   object \n",
      "dtypes: float64(1), object(4)\n",
      "memory usage: 1.7+ MB\n"
     ]
    }
   ],
   "source": [
    "belongs_to_collection.info()"
   ]
  },
  {
   "cell_type": "code",
   "execution_count": 16,
   "id": "3774bb0c",
   "metadata": {},
   "outputs": [
    {
     "data": {
      "text/html": [
       "<div>\n",
       "<style scoped>\n",
       "    .dataframe tbody tr th:only-of-type {\n",
       "        vertical-align: middle;\n",
       "    }\n",
       "\n",
       "    .dataframe tbody tr th {\n",
       "        vertical-align: top;\n",
       "    }\n",
       "\n",
       "    .dataframe thead th {\n",
       "        text-align: right;\n",
       "    }\n",
       "</style>\n",
       "<table border=\"1\" class=\"dataframe\">\n",
       "  <thead>\n",
       "    <tr style=\"text-align: right;\">\n",
       "      <th></th>\n",
       "      <th>movie_id</th>\n",
       "      <th>collection_id</th>\n",
       "      <th>collection_name</th>\n",
       "      <th>poster_path</th>\n",
       "      <th>backdrop_path</th>\n",
       "    </tr>\n",
       "  </thead>\n",
       "  <tbody>\n",
       "    <tr>\n",
       "      <th>0</th>\n",
       "      <td>862</td>\n",
       "      <td>10194.0</td>\n",
       "      <td>Toy Story Collection</td>\n",
       "      <td>/7G9915LfUQ2lVfwMEEhDsn3kT4B.jpg</td>\n",
       "      <td>/9FBwqcd9IRruEDUrTdcaafOMKUq.jpg</td>\n",
       "    </tr>\n",
       "    <tr>\n",
       "      <th>1</th>\n",
       "      <td>8844</td>\n",
       "      <td>NaN</td>\n",
       "      <td>NaN</td>\n",
       "      <td>NaN</td>\n",
       "      <td>NaN</td>\n",
       "    </tr>\n",
       "    <tr>\n",
       "      <th>2</th>\n",
       "      <td>15602</td>\n",
       "      <td>119050.0</td>\n",
       "      <td>Grumpy Old Men Collection</td>\n",
       "      <td>/nLvUdqgPgm3F85NMCii9gVFUcet.jpg</td>\n",
       "      <td>/hypTnLot2z8wpFS7qwsQHW1uV8u.jpg</td>\n",
       "    </tr>\n",
       "    <tr>\n",
       "      <th>3</th>\n",
       "      <td>31357</td>\n",
       "      <td>NaN</td>\n",
       "      <td>NaN</td>\n",
       "      <td>NaN</td>\n",
       "      <td>NaN</td>\n",
       "    </tr>\n",
       "    <tr>\n",
       "      <th>4</th>\n",
       "      <td>11862</td>\n",
       "      <td>96871.0</td>\n",
       "      <td>Father of the Bride Collection</td>\n",
       "      <td>/nts4iOmNnq7GNicycMJ9pSAn204.jpg</td>\n",
       "      <td>/7qwE57OVZmMJChBpLEbJEmzUydk.jpg</td>\n",
       "    </tr>\n",
       "  </tbody>\n",
       "</table>\n",
       "</div>"
      ],
      "text/plain": [
       "  movie_id  collection_id                 collection_name  \\\n",
       "0      862        10194.0            Toy Story Collection   \n",
       "1     8844            NaN                             NaN   \n",
       "2    15602       119050.0       Grumpy Old Men Collection   \n",
       "3    31357            NaN                             NaN   \n",
       "4    11862        96871.0  Father of the Bride Collection   \n",
       "\n",
       "                        poster_path                     backdrop_path  \n",
       "0  /7G9915LfUQ2lVfwMEEhDsn3kT4B.jpg  /9FBwqcd9IRruEDUrTdcaafOMKUq.jpg  \n",
       "1                               NaN                               NaN  \n",
       "2  /nLvUdqgPgm3F85NMCii9gVFUcet.jpg  /hypTnLot2z8wpFS7qwsQHW1uV8u.jpg  \n",
       "3                               NaN                               NaN  \n",
       "4  /nts4iOmNnq7GNicycMJ9pSAn204.jpg  /7qwE57OVZmMJChBpLEbJEmzUydk.jpg  "
      ]
     },
     "execution_count": 16,
     "metadata": {},
     "output_type": "execute_result"
    }
   ],
   "source": [
    "belongs_to_collection.head()"
   ]
  },
  {
   "cell_type": "code",
   "execution_count": 17,
   "id": "d66f4f98",
   "metadata": {},
   "outputs": [
    {
     "data": {
      "text/plain": [
       "collection_id\n",
       "415931.0    29\n",
       "421566.0    27\n",
       "645.0       26\n",
       "96887.0     26\n",
       "37261.0     25\n",
       "            ..\n",
       "463112.0     1\n",
       "474012.0     1\n",
       "284700.0     1\n",
       "142686.0     1\n",
       "267551.0     1\n",
       "Name: count, Length: 1695, dtype: int64"
      ]
     },
     "execution_count": 17,
     "metadata": {},
     "output_type": "execute_result"
    }
   ],
   "source": [
    "belongs_to_collection['collection_id'].value_counts()"
   ]
  },
  {
   "cell_type": "markdown",
   "id": "7a19d7a2",
   "metadata": {},
   "source": [
    "#### genres"
   ]
  },
  {
   "cell_type": "code",
   "execution_count": 18,
   "id": "3d00c0ae",
   "metadata": {},
   "outputs": [],
   "source": [
    "genres = movies[['id', 'genres']].copy()\n",
    "\n",
    "movies = movies.drop(columns=['genres'])"
   ]
  },
  {
   "cell_type": "code",
   "execution_count": 19,
   "id": "4b6223cb",
   "metadata": {},
   "outputs": [
    {
     "name": "stdout",
     "output_type": "stream",
     "text": [
      "<class 'pandas.core.frame.DataFrame'>\n",
      "RangeIndex: 45466 entries, 0 to 45465\n",
      "Data columns (total 2 columns):\n",
      " #   Column  Non-Null Count  Dtype \n",
      "---  ------  --------------  ----- \n",
      " 0   id      45466 non-null  object\n",
      " 1   genres  45466 non-null  object\n",
      "dtypes: object(2)\n",
      "memory usage: 710.5+ KB\n"
     ]
    }
   ],
   "source": [
    "genres.info()"
   ]
  },
  {
   "cell_type": "code",
   "execution_count": 20,
   "id": "600b9a6e",
   "metadata": {},
   "outputs": [
    {
     "data": {
      "text/html": [
       "<div>\n",
       "<style scoped>\n",
       "    .dataframe tbody tr th:only-of-type {\n",
       "        vertical-align: middle;\n",
       "    }\n",
       "\n",
       "    .dataframe tbody tr th {\n",
       "        vertical-align: top;\n",
       "    }\n",
       "\n",
       "    .dataframe thead th {\n",
       "        text-align: right;\n",
       "    }\n",
       "</style>\n",
       "<table border=\"1\" class=\"dataframe\">\n",
       "  <thead>\n",
       "    <tr style=\"text-align: right;\">\n",
       "      <th></th>\n",
       "      <th>id</th>\n",
       "      <th>genres</th>\n",
       "    </tr>\n",
       "  </thead>\n",
       "  <tbody>\n",
       "    <tr>\n",
       "      <th>0</th>\n",
       "      <td>862</td>\n",
       "      <td>[{'id': 16, 'name': 'Animation'}, {'id': 35, '...</td>\n",
       "    </tr>\n",
       "    <tr>\n",
       "      <th>1</th>\n",
       "      <td>8844</td>\n",
       "      <td>[{'id': 12, 'name': 'Adventure'}, {'id': 14, '...</td>\n",
       "    </tr>\n",
       "    <tr>\n",
       "      <th>2</th>\n",
       "      <td>15602</td>\n",
       "      <td>[{'id': 10749, 'name': 'Romance'}, {'id': 35, ...</td>\n",
       "    </tr>\n",
       "    <tr>\n",
       "      <th>3</th>\n",
       "      <td>31357</td>\n",
       "      <td>[{'id': 35, 'name': 'Comedy'}, {'id': 18, 'nam...</td>\n",
       "    </tr>\n",
       "    <tr>\n",
       "      <th>4</th>\n",
       "      <td>11862</td>\n",
       "      <td>[{'id': 35, 'name': 'Comedy'}]</td>\n",
       "    </tr>\n",
       "  </tbody>\n",
       "</table>\n",
       "</div>"
      ],
      "text/plain": [
       "      id                                             genres\n",
       "0    862  [{'id': 16, 'name': 'Animation'}, {'id': 35, '...\n",
       "1   8844  [{'id': 12, 'name': 'Adventure'}, {'id': 14, '...\n",
       "2  15602  [{'id': 10749, 'name': 'Romance'}, {'id': 35, ...\n",
       "3  31357  [{'id': 35, 'name': 'Comedy'}, {'id': 18, 'nam...\n",
       "4  11862                     [{'id': 35, 'name': 'Comedy'}]"
      ]
     },
     "execution_count": 20,
     "metadata": {},
     "output_type": "execute_result"
    }
   ],
   "source": [
    "genres.head(5)"
   ]
  },
  {
   "cell_type": "code",
   "execution_count": 21,
   "id": "91f95c82",
   "metadata": {},
   "outputs": [],
   "source": [
    "genres.rename(\n",
    "    columns={\n",
    "        'id': 'movie_id'\n",
    "    },\n",
    "    inplace=True)"
   ]
  },
  {
   "cell_type": "code",
   "execution_count": 22,
   "id": "ab1351fc",
   "metadata": {},
   "outputs": [
    {
     "data": {
      "text/html": [
       "<div>\n",
       "<style scoped>\n",
       "    .dataframe tbody tr th:only-of-type {\n",
       "        vertical-align: middle;\n",
       "    }\n",
       "\n",
       "    .dataframe tbody tr th {\n",
       "        vertical-align: top;\n",
       "    }\n",
       "\n",
       "    .dataframe thead th {\n",
       "        text-align: right;\n",
       "    }\n",
       "</style>\n",
       "<table border=\"1\" class=\"dataframe\">\n",
       "  <thead>\n",
       "    <tr style=\"text-align: right;\">\n",
       "      <th></th>\n",
       "      <th>movie_id</th>\n",
       "      <th>genres</th>\n",
       "    </tr>\n",
       "  </thead>\n",
       "  <tbody>\n",
       "    <tr>\n",
       "      <th>0</th>\n",
       "      <td>862</td>\n",
       "      <td>[{'id': 16, 'name': 'Animation'}, {'id': 35, '...</td>\n",
       "    </tr>\n",
       "    <tr>\n",
       "      <th>1</th>\n",
       "      <td>8844</td>\n",
       "      <td>[{'id': 12, 'name': 'Adventure'}, {'id': 14, '...</td>\n",
       "    </tr>\n",
       "    <tr>\n",
       "      <th>2</th>\n",
       "      <td>15602</td>\n",
       "      <td>[{'id': 10749, 'name': 'Romance'}, {'id': 35, ...</td>\n",
       "    </tr>\n",
       "    <tr>\n",
       "      <th>3</th>\n",
       "      <td>31357</td>\n",
       "      <td>[{'id': 35, 'name': 'Comedy'}, {'id': 18, 'nam...</td>\n",
       "    </tr>\n",
       "    <tr>\n",
       "      <th>4</th>\n",
       "      <td>11862</td>\n",
       "      <td>[{'id': 35, 'name': 'Comedy'}]</td>\n",
       "    </tr>\n",
       "  </tbody>\n",
       "</table>\n",
       "</div>"
      ],
      "text/plain": [
       "  movie_id                                             genres\n",
       "0      862  [{'id': 16, 'name': 'Animation'}, {'id': 35, '...\n",
       "1     8844  [{'id': 12, 'name': 'Adventure'}, {'id': 14, '...\n",
       "2    15602  [{'id': 10749, 'name': 'Romance'}, {'id': 35, ...\n",
       "3    31357  [{'id': 35, 'name': 'Comedy'}, {'id': 18, 'nam...\n",
       "4    11862                     [{'id': 35, 'name': 'Comedy'}]"
      ]
     },
     "execution_count": 22,
     "metadata": {},
     "output_type": "execute_result"
    }
   ],
   "source": [
    "genres.head(5)"
   ]
  },
  {
   "cell_type": "code",
   "execution_count": 23,
   "id": "0af94599",
   "metadata": {},
   "outputs": [],
   "source": [
    "genres['genres'] = genres['genres'].apply(lambda x: ast.literal_eval(str(x)) if isinstance(x, str) and pd.notna(x) else x)\n",
    "\n",
    "exploded = genres.explode('genres')\n",
    "\n",
    "new_columns = pd.json_normalize(exploded['genres'])\n",
    "\n",
    "genres = exploded.drop(columns=['genres']).reset_index(drop=True).join(new_columns)"
   ]
  },
  {
   "cell_type": "code",
   "execution_count": 24,
   "id": "30a136d5",
   "metadata": {},
   "outputs": [
    {
     "data": {
      "text/html": [
       "<div>\n",
       "<style scoped>\n",
       "    .dataframe tbody tr th:only-of-type {\n",
       "        vertical-align: middle;\n",
       "    }\n",
       "\n",
       "    .dataframe tbody tr th {\n",
       "        vertical-align: top;\n",
       "    }\n",
       "\n",
       "    .dataframe thead th {\n",
       "        text-align: right;\n",
       "    }\n",
       "</style>\n",
       "<table border=\"1\" class=\"dataframe\">\n",
       "  <thead>\n",
       "    <tr style=\"text-align: right;\">\n",
       "      <th></th>\n",
       "      <th>movie_id</th>\n",
       "      <th>id</th>\n",
       "      <th>name</th>\n",
       "    </tr>\n",
       "  </thead>\n",
       "  <tbody>\n",
       "    <tr>\n",
       "      <th>0</th>\n",
       "      <td>862</td>\n",
       "      <td>16.0</td>\n",
       "      <td>Animation</td>\n",
       "    </tr>\n",
       "    <tr>\n",
       "      <th>1</th>\n",
       "      <td>862</td>\n",
       "      <td>35.0</td>\n",
       "      <td>Comedy</td>\n",
       "    </tr>\n",
       "    <tr>\n",
       "      <th>2</th>\n",
       "      <td>862</td>\n",
       "      <td>10751.0</td>\n",
       "      <td>Family</td>\n",
       "    </tr>\n",
       "    <tr>\n",
       "      <th>3</th>\n",
       "      <td>8844</td>\n",
       "      <td>12.0</td>\n",
       "      <td>Adventure</td>\n",
       "    </tr>\n",
       "    <tr>\n",
       "      <th>4</th>\n",
       "      <td>8844</td>\n",
       "      <td>14.0</td>\n",
       "      <td>Fantasy</td>\n",
       "    </tr>\n",
       "  </tbody>\n",
       "</table>\n",
       "</div>"
      ],
      "text/plain": [
       "  movie_id       id       name\n",
       "0      862     16.0  Animation\n",
       "1      862     35.0     Comedy\n",
       "2      862  10751.0     Family\n",
       "3     8844     12.0  Adventure\n",
       "4     8844     14.0    Fantasy"
      ]
     },
     "execution_count": 24,
     "metadata": {},
     "output_type": "execute_result"
    }
   ],
   "source": [
    "genres.head(5)"
   ]
  },
  {
   "cell_type": "code",
   "execution_count": 25,
   "id": "f19357ec",
   "metadata": {},
   "outputs": [
    {
     "name": "stdout",
     "output_type": "stream",
     "text": [
      "<class 'pandas.core.frame.DataFrame'>\n",
      "RangeIndex: 93548 entries, 0 to 93547\n",
      "Data columns (total 3 columns):\n",
      " #   Column    Non-Null Count  Dtype  \n",
      "---  ------    --------------  -----  \n",
      " 0   movie_id  93548 non-null  object \n",
      " 1   id        91106 non-null  float64\n",
      " 2   name      91106 non-null  object \n",
      "dtypes: float64(1), object(2)\n",
      "memory usage: 2.1+ MB\n"
     ]
    }
   ],
   "source": [
    "genres.info()"
   ]
  },
  {
   "cell_type": "code",
   "execution_count": 26,
   "id": "f9d29d39",
   "metadata": {},
   "outputs": [],
   "source": [
    "genres.rename(\n",
    "    columns={\n",
    "        'id': 'genre_id',\n",
    "        'name': 'genre_name'\n",
    "    },\n",
    "    inplace=True)"
   ]
  },
  {
   "cell_type": "code",
   "execution_count": 27,
   "id": "3393bb38",
   "metadata": {},
   "outputs": [
    {
     "data": {
      "text/plain": [
       "Index(['movie_id', 'genre_id', 'genre_name'], dtype='object')"
      ]
     },
     "execution_count": 27,
     "metadata": {},
     "output_type": "execute_result"
    }
   ],
   "source": [
    "genres.columns"
   ]
  },
  {
   "cell_type": "code",
   "execution_count": 28,
   "id": "682a26c0",
   "metadata": {},
   "outputs": [
    {
     "data": {
      "text/plain": [
       "genre_id\n",
       "18.0       20265\n",
       "35.0       13182\n",
       "53.0        7624\n",
       "10749.0     6735\n",
       "28.0        6596\n",
       "27.0        4673\n",
       "80.0        4307\n",
       "99.0        3932\n",
       "12.0        3496\n",
       "878.0       3049\n",
       "10751.0     2770\n",
       "9648.0      2467\n",
       "14.0        2313\n",
       "16.0        1935\n",
       "10769.0     1622\n",
       "10402.0     1598\n",
       "36.0        1398\n",
       "10752.0     1323\n",
       "37.0        1042\n",
       "10770.0      767\n",
       "11176.0        1\n",
       "11602.0        1\n",
       "29812.0        1\n",
       "2883.0         1\n",
       "7759.0         1\n",
       "7760.0         1\n",
       "7761.0         1\n",
       "33751.0        1\n",
       "17161.0        1\n",
       "18012.0        1\n",
       "18013.0        1\n",
       "23822.0        1\n",
       "Name: count, dtype: int64"
      ]
     },
     "execution_count": 28,
     "metadata": {},
     "output_type": "execute_result"
    }
   ],
   "source": [
    "genres['genre_id'].value_counts()"
   ]
  },
  {
   "cell_type": "markdown",
   "id": "d0c05f5d",
   "metadata": {},
   "source": [
    "#### production_companies"
   ]
  },
  {
   "cell_type": "code",
   "execution_count": 29,
   "id": "bd9146aa",
   "metadata": {},
   "outputs": [],
   "source": [
    "production_companies = movies[['id', 'production_companies']].copy()\n",
    "\n",
    "movies = movies.drop(columns=['production_companies'])"
   ]
  },
  {
   "cell_type": "code",
   "execution_count": 30,
   "id": "6a93f277",
   "metadata": {},
   "outputs": [
    {
     "name": "stdout",
     "output_type": "stream",
     "text": [
      "<class 'pandas.core.frame.DataFrame'>\n",
      "RangeIndex: 45466 entries, 0 to 45465\n",
      "Data columns (total 2 columns):\n",
      " #   Column                Non-Null Count  Dtype \n",
      "---  ------                --------------  ----- \n",
      " 0   id                    45466 non-null  object\n",
      " 1   production_companies  45463 non-null  object\n",
      "dtypes: object(2)\n",
      "memory usage: 710.5+ KB\n"
     ]
    }
   ],
   "source": [
    "production_companies.info()"
   ]
  },
  {
   "cell_type": "code",
   "execution_count": 31,
   "id": "be61ff71",
   "metadata": {},
   "outputs": [
    {
     "data": {
      "text/html": [
       "<div>\n",
       "<style scoped>\n",
       "    .dataframe tbody tr th:only-of-type {\n",
       "        vertical-align: middle;\n",
       "    }\n",
       "\n",
       "    .dataframe tbody tr th {\n",
       "        vertical-align: top;\n",
       "    }\n",
       "\n",
       "    .dataframe thead th {\n",
       "        text-align: right;\n",
       "    }\n",
       "</style>\n",
       "<table border=\"1\" class=\"dataframe\">\n",
       "  <thead>\n",
       "    <tr style=\"text-align: right;\">\n",
       "      <th></th>\n",
       "      <th>id</th>\n",
       "      <th>production_companies</th>\n",
       "    </tr>\n",
       "  </thead>\n",
       "  <tbody>\n",
       "    <tr>\n",
       "      <th>0</th>\n",
       "      <td>862</td>\n",
       "      <td>[{'name': 'Pixar Animation Studios', 'id': 3}]</td>\n",
       "    </tr>\n",
       "    <tr>\n",
       "      <th>1</th>\n",
       "      <td>8844</td>\n",
       "      <td>[{'name': 'TriStar Pictures', 'id': 559}, {'na...</td>\n",
       "    </tr>\n",
       "    <tr>\n",
       "      <th>2</th>\n",
       "      <td>15602</td>\n",
       "      <td>[{'name': 'Warner Bros.', 'id': 6194}, {'name'...</td>\n",
       "    </tr>\n",
       "    <tr>\n",
       "      <th>3</th>\n",
       "      <td>31357</td>\n",
       "      <td>[{'name': 'Twentieth Century Fox Film Corporat...</td>\n",
       "    </tr>\n",
       "    <tr>\n",
       "      <th>4</th>\n",
       "      <td>11862</td>\n",
       "      <td>[{'name': 'Sandollar Productions', 'id': 5842}...</td>\n",
       "    </tr>\n",
       "  </tbody>\n",
       "</table>\n",
       "</div>"
      ],
      "text/plain": [
       "      id                               production_companies\n",
       "0    862     [{'name': 'Pixar Animation Studios', 'id': 3}]\n",
       "1   8844  [{'name': 'TriStar Pictures', 'id': 559}, {'na...\n",
       "2  15602  [{'name': 'Warner Bros.', 'id': 6194}, {'name'...\n",
       "3  31357  [{'name': 'Twentieth Century Fox Film Corporat...\n",
       "4  11862  [{'name': 'Sandollar Productions', 'id': 5842}..."
      ]
     },
     "execution_count": 31,
     "metadata": {},
     "output_type": "execute_result"
    }
   ],
   "source": [
    "production_companies.head(5)"
   ]
  },
  {
   "cell_type": "code",
   "execution_count": 32,
   "id": "29d29ae6",
   "metadata": {},
   "outputs": [],
   "source": [
    "production_companies.rename(\n",
    "    columns={\n",
    "        'id': 'movie_id'\n",
    "    },\n",
    "    inplace=True)"
   ]
  },
  {
   "cell_type": "code",
   "execution_count": 33,
   "id": "13993d4e",
   "metadata": {},
   "outputs": [
    {
     "data": {
      "text/plain": [
       "Index(['movie_id', 'production_companies'], dtype='object')"
      ]
     },
     "execution_count": 33,
     "metadata": {},
     "output_type": "execute_result"
    }
   ],
   "source": [
    "production_companies.columns"
   ]
  },
  {
   "cell_type": "code",
   "execution_count": 34,
   "id": "43f75a87",
   "metadata": {},
   "outputs": [],
   "source": [
    "production_companies['production_companies'] = production_companies['production_companies'].apply(lambda x: ast.literal_eval(str(x)) if isinstance(x, str) and pd.notna(x) else x)\n",
    "\n",
    "exploded = production_companies.explode('production_companies')\n",
    "\n",
    "new_columns = pd.json_normalize(exploded['production_companies'])\n",
    "\n",
    "production_companies = exploded.drop(columns=['production_companies']).reset_index(drop=True).join(new_columns)"
   ]
  },
  {
   "cell_type": "code",
   "execution_count": 35,
   "id": "5954aadd",
   "metadata": {},
   "outputs": [
    {
     "data": {
      "text/html": [
       "<div>\n",
       "<style scoped>\n",
       "    .dataframe tbody tr th:only-of-type {\n",
       "        vertical-align: middle;\n",
       "    }\n",
       "\n",
       "    .dataframe tbody tr th {\n",
       "        vertical-align: top;\n",
       "    }\n",
       "\n",
       "    .dataframe thead th {\n",
       "        text-align: right;\n",
       "    }\n",
       "</style>\n",
       "<table border=\"1\" class=\"dataframe\">\n",
       "  <thead>\n",
       "    <tr style=\"text-align: right;\">\n",
       "      <th></th>\n",
       "      <th>movie_id</th>\n",
       "      <th>name</th>\n",
       "      <th>id</th>\n",
       "    </tr>\n",
       "  </thead>\n",
       "  <tbody>\n",
       "    <tr>\n",
       "      <th>0</th>\n",
       "      <td>862</td>\n",
       "      <td>Pixar Animation Studios</td>\n",
       "      <td>3.0</td>\n",
       "    </tr>\n",
       "    <tr>\n",
       "      <th>1</th>\n",
       "      <td>8844</td>\n",
       "      <td>TriStar Pictures</td>\n",
       "      <td>559.0</td>\n",
       "    </tr>\n",
       "    <tr>\n",
       "      <th>2</th>\n",
       "      <td>8844</td>\n",
       "      <td>Teitler Film</td>\n",
       "      <td>2550.0</td>\n",
       "    </tr>\n",
       "    <tr>\n",
       "      <th>3</th>\n",
       "      <td>8844</td>\n",
       "      <td>Interscope Communications</td>\n",
       "      <td>10201.0</td>\n",
       "    </tr>\n",
       "    <tr>\n",
       "      <th>4</th>\n",
       "      <td>15602</td>\n",
       "      <td>Warner Bros.</td>\n",
       "      <td>6194.0</td>\n",
       "    </tr>\n",
       "  </tbody>\n",
       "</table>\n",
       "</div>"
      ],
      "text/plain": [
       "  movie_id                       name       id\n",
       "0      862    Pixar Animation Studios      3.0\n",
       "1     8844           TriStar Pictures    559.0\n",
       "2     8844               Teitler Film   2550.0\n",
       "3     8844  Interscope Communications  10201.0\n",
       "4    15602               Warner Bros.   6194.0"
      ]
     },
     "execution_count": 35,
     "metadata": {},
     "output_type": "execute_result"
    }
   ],
   "source": [
    "production_companies.head(5)"
   ]
  },
  {
   "cell_type": "code",
   "execution_count": 36,
   "id": "75fc0de8",
   "metadata": {},
   "outputs": [
    {
     "name": "stdout",
     "output_type": "stream",
     "text": [
      "<class 'pandas.core.frame.DataFrame'>\n",
      "RangeIndex: 82426 entries, 0 to 82425\n",
      "Data columns (total 3 columns):\n",
      " #   Column    Non-Null Count  Dtype  \n",
      "---  ------    --------------  -----  \n",
      " 0   movie_id  82426 non-null  object \n",
      " 1   name      70545 non-null  object \n",
      " 2   id        70545 non-null  float64\n",
      "dtypes: float64(1), object(2)\n",
      "memory usage: 1.9+ MB\n"
     ]
    }
   ],
   "source": [
    "production_companies.info()"
   ]
  },
  {
   "cell_type": "code",
   "execution_count": 37,
   "id": "4025c44c",
   "metadata": {},
   "outputs": [],
   "source": [
    "production_companies.rename(\n",
    "    columns={\n",
    "        'id': 'company_id', \n",
    "        'name': 'company_name'\n",
    "    },\n",
    "    inplace=True)"
   ]
  },
  {
   "cell_type": "code",
   "execution_count": 38,
   "id": "0ff796ee",
   "metadata": {},
   "outputs": [
    {
     "data": {
      "text/plain": [
       "Index(['movie_id', 'company_name', 'company_id'], dtype='object')"
      ]
     },
     "execution_count": 38,
     "metadata": {},
     "output_type": "execute_result"
    }
   ],
   "source": [
    "production_companies.columns"
   ]
  },
  {
   "cell_type": "code",
   "execution_count": 39,
   "id": "1d4b2d99",
   "metadata": {},
   "outputs": [
    {
     "data": {
      "text/plain": [
       "company_name\n",
       "Warner Bros.                              1250\n",
       "Metro-Goldwyn-Mayer (MGM)                 1076\n",
       "Paramount Pictures                        1003\n",
       "Twentieth Century Fox Film Corporation     836\n",
       "Universal Pictures                         830\n",
       "                                          ... \n",
       "Inside Track 1                               1\n",
       "Film Council Premiere Fund                   1\n",
       "Untitled 03                                  1\n",
       "absolutely productions                       1\n",
       "Yermoliev                                    1\n",
       "Name: count, Length: 23537, dtype: int64"
      ]
     },
     "execution_count": 39,
     "metadata": {},
     "output_type": "execute_result"
    }
   ],
   "source": [
    "production_companies['company_name'].value_counts()"
   ]
  },
  {
   "cell_type": "markdown",
   "id": "b6434600",
   "metadata": {},
   "source": [
    "#### production_countries"
   ]
  },
  {
   "cell_type": "code",
   "execution_count": 40,
   "id": "33c8f336",
   "metadata": {},
   "outputs": [],
   "source": [
    "production_countries = movies[['id', 'production_countries']].copy()\n",
    "\n",
    "movies = movies.drop(columns=['production_countries'])"
   ]
  },
  {
   "cell_type": "code",
   "execution_count": 41,
   "id": "2c2b5b91",
   "metadata": {},
   "outputs": [
    {
     "name": "stdout",
     "output_type": "stream",
     "text": [
      "<class 'pandas.core.frame.DataFrame'>\n",
      "RangeIndex: 45466 entries, 0 to 45465\n",
      "Data columns (total 2 columns):\n",
      " #   Column                Non-Null Count  Dtype \n",
      "---  ------                --------------  ----- \n",
      " 0   id                    45466 non-null  object\n",
      " 1   production_countries  45463 non-null  object\n",
      "dtypes: object(2)\n",
      "memory usage: 710.5+ KB\n"
     ]
    }
   ],
   "source": [
    "production_countries.info()"
   ]
  },
  {
   "cell_type": "code",
   "execution_count": 42,
   "id": "5d9e8e1c",
   "metadata": {},
   "outputs": [
    {
     "data": {
      "text/html": [
       "<div>\n",
       "<style scoped>\n",
       "    .dataframe tbody tr th:only-of-type {\n",
       "        vertical-align: middle;\n",
       "    }\n",
       "\n",
       "    .dataframe tbody tr th {\n",
       "        vertical-align: top;\n",
       "    }\n",
       "\n",
       "    .dataframe thead th {\n",
       "        text-align: right;\n",
       "    }\n",
       "</style>\n",
       "<table border=\"1\" class=\"dataframe\">\n",
       "  <thead>\n",
       "    <tr style=\"text-align: right;\">\n",
       "      <th></th>\n",
       "      <th>id</th>\n",
       "      <th>production_countries</th>\n",
       "    </tr>\n",
       "  </thead>\n",
       "  <tbody>\n",
       "    <tr>\n",
       "      <th>0</th>\n",
       "      <td>862</td>\n",
       "      <td>[{'iso_3166_1': 'US', 'name': 'United States o...</td>\n",
       "    </tr>\n",
       "    <tr>\n",
       "      <th>1</th>\n",
       "      <td>8844</td>\n",
       "      <td>[{'iso_3166_1': 'US', 'name': 'United States o...</td>\n",
       "    </tr>\n",
       "    <tr>\n",
       "      <th>2</th>\n",
       "      <td>15602</td>\n",
       "      <td>[{'iso_3166_1': 'US', 'name': 'United States o...</td>\n",
       "    </tr>\n",
       "    <tr>\n",
       "      <th>3</th>\n",
       "      <td>31357</td>\n",
       "      <td>[{'iso_3166_1': 'US', 'name': 'United States o...</td>\n",
       "    </tr>\n",
       "    <tr>\n",
       "      <th>4</th>\n",
       "      <td>11862</td>\n",
       "      <td>[{'iso_3166_1': 'US', 'name': 'United States o...</td>\n",
       "    </tr>\n",
       "  </tbody>\n",
       "</table>\n",
       "</div>"
      ],
      "text/plain": [
       "      id                               production_countries\n",
       "0    862  [{'iso_3166_1': 'US', 'name': 'United States o...\n",
       "1   8844  [{'iso_3166_1': 'US', 'name': 'United States o...\n",
       "2  15602  [{'iso_3166_1': 'US', 'name': 'United States o...\n",
       "3  31357  [{'iso_3166_1': 'US', 'name': 'United States o...\n",
       "4  11862  [{'iso_3166_1': 'US', 'name': 'United States o..."
      ]
     },
     "execution_count": 42,
     "metadata": {},
     "output_type": "execute_result"
    }
   ],
   "source": [
    "production_countries.head(5)"
   ]
  },
  {
   "cell_type": "code",
   "execution_count": 43,
   "id": "0a00fa5a",
   "metadata": {},
   "outputs": [],
   "source": [
    "production_countries.rename(\n",
    "    columns={\n",
    "        'id': 'movie_id'\n",
    "    },\n",
    "    inplace=True)"
   ]
  },
  {
   "cell_type": "code",
   "execution_count": 44,
   "id": "8e091e3f",
   "metadata": {},
   "outputs": [
    {
     "data": {
      "text/plain": [
       "Index(['movie_id', 'production_countries'], dtype='object')"
      ]
     },
     "execution_count": 44,
     "metadata": {},
     "output_type": "execute_result"
    }
   ],
   "source": [
    "production_countries.columns"
   ]
  },
  {
   "cell_type": "code",
   "execution_count": 45,
   "id": "f1939fa3",
   "metadata": {},
   "outputs": [],
   "source": [
    "production_countries['production_countries'] = production_countries['production_countries'].apply(lambda x: ast.literal_eval(str(x)) if isinstance(x, str) and pd.notna(x) else x)\n",
    "\n",
    "exploded = production_countries.explode('production_countries')\n",
    "\n",
    "new_columns = pd.json_normalize(exploded['production_countries'])\n",
    "\n",
    "production_countries = exploded.drop(columns=['production_countries']).reset_index(drop=True).join(new_columns)"
   ]
  },
  {
   "cell_type": "code",
   "execution_count": 46,
   "id": "051e7301",
   "metadata": {},
   "outputs": [
    {
     "data": {
      "text/html": [
       "<div>\n",
       "<style scoped>\n",
       "    .dataframe tbody tr th:only-of-type {\n",
       "        vertical-align: middle;\n",
       "    }\n",
       "\n",
       "    .dataframe tbody tr th {\n",
       "        vertical-align: top;\n",
       "    }\n",
       "\n",
       "    .dataframe thead th {\n",
       "        text-align: right;\n",
       "    }\n",
       "</style>\n",
       "<table border=\"1\" class=\"dataframe\">\n",
       "  <thead>\n",
       "    <tr style=\"text-align: right;\">\n",
       "      <th></th>\n",
       "      <th>movie_id</th>\n",
       "      <th>iso_3166_1</th>\n",
       "      <th>name</th>\n",
       "    </tr>\n",
       "  </thead>\n",
       "  <tbody>\n",
       "    <tr>\n",
       "      <th>0</th>\n",
       "      <td>862</td>\n",
       "      <td>US</td>\n",
       "      <td>United States of America</td>\n",
       "    </tr>\n",
       "    <tr>\n",
       "      <th>1</th>\n",
       "      <td>8844</td>\n",
       "      <td>US</td>\n",
       "      <td>United States of America</td>\n",
       "    </tr>\n",
       "    <tr>\n",
       "      <th>2</th>\n",
       "      <td>15602</td>\n",
       "      <td>US</td>\n",
       "      <td>United States of America</td>\n",
       "    </tr>\n",
       "    <tr>\n",
       "      <th>3</th>\n",
       "      <td>31357</td>\n",
       "      <td>US</td>\n",
       "      <td>United States of America</td>\n",
       "    </tr>\n",
       "    <tr>\n",
       "      <th>4</th>\n",
       "      <td>11862</td>\n",
       "      <td>US</td>\n",
       "      <td>United States of America</td>\n",
       "    </tr>\n",
       "  </tbody>\n",
       "</table>\n",
       "</div>"
      ],
      "text/plain": [
       "  movie_id iso_3166_1                      name\n",
       "0      862         US  United States of America\n",
       "1     8844         US  United States of America\n",
       "2    15602         US  United States of America\n",
       "3    31357         US  United States of America\n",
       "4    11862         US  United States of America"
      ]
     },
     "execution_count": 46,
     "metadata": {},
     "output_type": "execute_result"
    }
   ],
   "source": [
    "production_countries.head(5)"
   ]
  },
  {
   "cell_type": "code",
   "execution_count": 47,
   "id": "d05128bd",
   "metadata": {},
   "outputs": [
    {
     "name": "stdout",
     "output_type": "stream",
     "text": [
      "<class 'pandas.core.frame.DataFrame'>\n",
      "RangeIndex: 55711 entries, 0 to 55710\n",
      "Data columns (total 3 columns):\n",
      " #   Column      Non-Null Count  Dtype \n",
      "---  ------      --------------  ----- \n",
      " 0   movie_id    55711 non-null  object\n",
      " 1   iso_3166_1  49423 non-null  object\n",
      " 2   name        49423 non-null  object\n",
      "dtypes: object(3)\n",
      "memory usage: 1.3+ MB\n"
     ]
    }
   ],
   "source": [
    "production_countries.info()"
   ]
  },
  {
   "cell_type": "code",
   "execution_count": 48,
   "id": "451d2d68",
   "metadata": {},
   "outputs": [],
   "source": [
    "production_countries.rename(\n",
    "    columns={\n",
    "        'name': 'country_name'\n",
    "    },\n",
    "    inplace=True)"
   ]
  },
  {
   "cell_type": "code",
   "execution_count": 49,
   "id": "2ed9ca36",
   "metadata": {},
   "outputs": [
    {
     "data": {
      "text/plain": [
       "Index(['movie_id', 'iso_3166_1', 'country_name'], dtype='object')"
      ]
     },
     "execution_count": 49,
     "metadata": {},
     "output_type": "execute_result"
    }
   ],
   "source": [
    "production_countries.columns"
   ]
  },
  {
   "cell_type": "code",
   "execution_count": 50,
   "id": "fcd7c887",
   "metadata": {},
   "outputs": [
    {
     "data": {
      "text/plain": [
       "country_name\n",
       "United States of America    21153\n",
       "United Kingdom               4094\n",
       "France                       3940\n",
       "Germany                      2254\n",
       "Italy                        2169\n",
       "                            ...  \n",
       "Antarctica                      1\n",
       "Gibraltar                       1\n",
       "Brunei Darussalam               1\n",
       "Honduras                        1\n",
       "Guinea                          1\n",
       "Name: count, Length: 160, dtype: int64"
      ]
     },
     "execution_count": 50,
     "metadata": {},
     "output_type": "execute_result"
    }
   ],
   "source": [
    "production_countries['country_name'].value_counts()"
   ]
  },
  {
   "cell_type": "markdown",
   "id": "5f81f708",
   "metadata": {},
   "source": [
    "#### spoken_languages"
   ]
  },
  {
   "cell_type": "code",
   "execution_count": 51,
   "id": "89fa074e",
   "metadata": {},
   "outputs": [],
   "source": [
    "spoken_languages = movies[['id', 'spoken_languages']].copy()\n",
    "\n",
    "movies = movies.drop(columns=['spoken_languages'])"
   ]
  },
  {
   "cell_type": "code",
   "execution_count": 52,
   "id": "63d67253",
   "metadata": {},
   "outputs": [
    {
     "name": "stdout",
     "output_type": "stream",
     "text": [
      "<class 'pandas.core.frame.DataFrame'>\n",
      "RangeIndex: 45466 entries, 0 to 45465\n",
      "Data columns (total 2 columns):\n",
      " #   Column            Non-Null Count  Dtype \n",
      "---  ------            --------------  ----- \n",
      " 0   id                45466 non-null  object\n",
      " 1   spoken_languages  45460 non-null  object\n",
      "dtypes: object(2)\n",
      "memory usage: 710.5+ KB\n"
     ]
    }
   ],
   "source": [
    "spoken_languages.info()"
   ]
  },
  {
   "cell_type": "code",
   "execution_count": 53,
   "id": "5fce08ae",
   "metadata": {},
   "outputs": [
    {
     "data": {
      "text/html": [
       "<div>\n",
       "<style scoped>\n",
       "    .dataframe tbody tr th:only-of-type {\n",
       "        vertical-align: middle;\n",
       "    }\n",
       "\n",
       "    .dataframe tbody tr th {\n",
       "        vertical-align: top;\n",
       "    }\n",
       "\n",
       "    .dataframe thead th {\n",
       "        text-align: right;\n",
       "    }\n",
       "</style>\n",
       "<table border=\"1\" class=\"dataframe\">\n",
       "  <thead>\n",
       "    <tr style=\"text-align: right;\">\n",
       "      <th></th>\n",
       "      <th>id</th>\n",
       "      <th>spoken_languages</th>\n",
       "    </tr>\n",
       "  </thead>\n",
       "  <tbody>\n",
       "    <tr>\n",
       "      <th>0</th>\n",
       "      <td>862</td>\n",
       "      <td>[{'iso_639_1': 'en', 'name': 'English'}]</td>\n",
       "    </tr>\n",
       "    <tr>\n",
       "      <th>1</th>\n",
       "      <td>8844</td>\n",
       "      <td>[{'iso_639_1': 'en', 'name': 'English'}, {'iso...</td>\n",
       "    </tr>\n",
       "    <tr>\n",
       "      <th>2</th>\n",
       "      <td>15602</td>\n",
       "      <td>[{'iso_639_1': 'en', 'name': 'English'}]</td>\n",
       "    </tr>\n",
       "    <tr>\n",
       "      <th>3</th>\n",
       "      <td>31357</td>\n",
       "      <td>[{'iso_639_1': 'en', 'name': 'English'}]</td>\n",
       "    </tr>\n",
       "    <tr>\n",
       "      <th>4</th>\n",
       "      <td>11862</td>\n",
       "      <td>[{'iso_639_1': 'en', 'name': 'English'}]</td>\n",
       "    </tr>\n",
       "  </tbody>\n",
       "</table>\n",
       "</div>"
      ],
      "text/plain": [
       "      id                                   spoken_languages\n",
       "0    862           [{'iso_639_1': 'en', 'name': 'English'}]\n",
       "1   8844  [{'iso_639_1': 'en', 'name': 'English'}, {'iso...\n",
       "2  15602           [{'iso_639_1': 'en', 'name': 'English'}]\n",
       "3  31357           [{'iso_639_1': 'en', 'name': 'English'}]\n",
       "4  11862           [{'iso_639_1': 'en', 'name': 'English'}]"
      ]
     },
     "execution_count": 53,
     "metadata": {},
     "output_type": "execute_result"
    }
   ],
   "source": [
    "spoken_languages.head(5)"
   ]
  },
  {
   "cell_type": "code",
   "execution_count": 54,
   "id": "bd90ab43",
   "metadata": {},
   "outputs": [],
   "source": [
    "spoken_languages.rename(\n",
    "    columns={\n",
    "        'id': 'movie_id'\n",
    "    },\n",
    "    inplace=True)"
   ]
  },
  {
   "cell_type": "code",
   "execution_count": 55,
   "id": "3127dbe3",
   "metadata": {},
   "outputs": [
    {
     "data": {
      "text/plain": [
       "Index(['movie_id', 'spoken_languages'], dtype='object')"
      ]
     },
     "execution_count": 55,
     "metadata": {},
     "output_type": "execute_result"
    }
   ],
   "source": [
    "spoken_languages.columns"
   ]
  },
  {
   "cell_type": "code",
   "execution_count": 56,
   "id": "b45f6054",
   "metadata": {},
   "outputs": [],
   "source": [
    "spoken_languages['spoken_languages'] = spoken_languages['spoken_languages'].apply(lambda x: ast.literal_eval(str(x)) if isinstance(x, str) and pd.notna(x) else x)\n",
    "\n",
    "exploded = spoken_languages.explode('spoken_languages')\n",
    "\n",
    "new_columns = pd.json_normalize(exploded['spoken_languages'])\n",
    "\n",
    "spoken_languages = exploded.drop(columns=['spoken_languages']).reset_index(drop=True).join(new_columns)"
   ]
  },
  {
   "cell_type": "code",
   "execution_count": 57,
   "id": "f70fe70d",
   "metadata": {},
   "outputs": [
    {
     "data": {
      "text/html": [
       "<div>\n",
       "<style scoped>\n",
       "    .dataframe tbody tr th:only-of-type {\n",
       "        vertical-align: middle;\n",
       "    }\n",
       "\n",
       "    .dataframe tbody tr th {\n",
       "        vertical-align: top;\n",
       "    }\n",
       "\n",
       "    .dataframe thead th {\n",
       "        text-align: right;\n",
       "    }\n",
       "</style>\n",
       "<table border=\"1\" class=\"dataframe\">\n",
       "  <thead>\n",
       "    <tr style=\"text-align: right;\">\n",
       "      <th></th>\n",
       "      <th>movie_id</th>\n",
       "      <th>iso_639_1</th>\n",
       "      <th>name</th>\n",
       "    </tr>\n",
       "  </thead>\n",
       "  <tbody>\n",
       "    <tr>\n",
       "      <th>0</th>\n",
       "      <td>862</td>\n",
       "      <td>en</td>\n",
       "      <td>English</td>\n",
       "    </tr>\n",
       "    <tr>\n",
       "      <th>1</th>\n",
       "      <td>8844</td>\n",
       "      <td>en</td>\n",
       "      <td>English</td>\n",
       "    </tr>\n",
       "    <tr>\n",
       "      <th>2</th>\n",
       "      <td>8844</td>\n",
       "      <td>fr</td>\n",
       "      <td>Français</td>\n",
       "    </tr>\n",
       "    <tr>\n",
       "      <th>3</th>\n",
       "      <td>15602</td>\n",
       "      <td>en</td>\n",
       "      <td>English</td>\n",
       "    </tr>\n",
       "    <tr>\n",
       "      <th>4</th>\n",
       "      <td>31357</td>\n",
       "      <td>en</td>\n",
       "      <td>English</td>\n",
       "    </tr>\n",
       "  </tbody>\n",
       "</table>\n",
       "</div>"
      ],
      "text/plain": [
       "  movie_id iso_639_1      name\n",
       "0      862        en   English\n",
       "1     8844        en   English\n",
       "2     8844        fr  Français\n",
       "3    15602        en   English\n",
       "4    31357        en   English"
      ]
     },
     "execution_count": 57,
     "metadata": {},
     "output_type": "execute_result"
    }
   ],
   "source": [
    "spoken_languages.head(5)"
   ]
  },
  {
   "cell_type": "code",
   "execution_count": 58,
   "id": "68891716",
   "metadata": {},
   "outputs": [
    {
     "name": "stdout",
     "output_type": "stream",
     "text": [
      "<class 'pandas.core.frame.DataFrame'>\n",
      "RangeIndex: 57135 entries, 0 to 57134\n",
      "Data columns (total 3 columns):\n",
      " #   Column     Non-Null Count  Dtype \n",
      "---  ------     --------------  ----- \n",
      " 0   movie_id   57135 non-null  object\n",
      " 1   iso_639_1  53300 non-null  object\n",
      " 2   name       53300 non-null  object\n",
      "dtypes: object(3)\n",
      "memory usage: 1.3+ MB\n"
     ]
    }
   ],
   "source": [
    "spoken_languages.info()"
   ]
  },
  {
   "cell_type": "code",
   "execution_count": 59,
   "id": "a0c39ced",
   "metadata": {},
   "outputs": [],
   "source": [
    "spoken_languages.rename(\n",
    "    columns={\n",
    "        'name': 'language_name'\n",
    "    },\n",
    "    inplace=True)"
   ]
  },
  {
   "cell_type": "code",
   "execution_count": 60,
   "id": "01b110c9",
   "metadata": {},
   "outputs": [
    {
     "data": {
      "text/plain": [
       "Index(['movie_id', 'iso_639_1', 'language_name'], dtype='object')"
      ]
     },
     "execution_count": 60,
     "metadata": {},
     "output_type": "execute_result"
    }
   ],
   "source": [
    "spoken_languages.columns"
   ]
  },
  {
   "cell_type": "code",
   "execution_count": 61,
   "id": "6dce35a1",
   "metadata": {},
   "outputs": [
    {
     "data": {
      "text/plain": [
       "language_name\n",
       "English            28745\n",
       "Français            4196\n",
       "Deutsch             2625\n",
       "Español             2413\n",
       "Italiano            2367\n",
       "                   ...  \n",
       "Kinyarwanda            3\n",
       "беларуская мова        2\n",
       "Fulfulde               2\n",
       "ozbek                  2\n",
       "Hausa                  1\n",
       "Name: count, Length: 75, dtype: int64"
      ]
     },
     "execution_count": 61,
     "metadata": {},
     "output_type": "execute_result"
    }
   ],
   "source": [
    "spoken_languages['language_name'].value_counts()"
   ]
  },
  {
   "cell_type": "code",
   "execution_count": 62,
   "id": "91d91eec",
   "metadata": {},
   "outputs": [
    {
     "name": "stdout",
     "output_type": "stream",
     "text": [
      "<class 'pandas.core.frame.DataFrame'>\n",
      "RangeIndex: 45466 entries, 0 to 45465\n",
      "Data columns (total 19 columns):\n",
      " #   Column             Non-Null Count  Dtype  \n",
      "---  ------             --------------  -----  \n",
      " 0   adult              45466 non-null  object \n",
      " 1   budget             45466 non-null  object \n",
      " 2   homepage           7782 non-null   object \n",
      " 3   id                 45466 non-null  object \n",
      " 4   imdb_id            45449 non-null  object \n",
      " 5   original_language  45455 non-null  object \n",
      " 6   original_title     45466 non-null  object \n",
      " 7   overview           44512 non-null  object \n",
      " 8   popularity         45461 non-null  object \n",
      " 9   poster_path        45080 non-null  object \n",
      " 10  release_date       45379 non-null  object \n",
      " 11  revenue            45460 non-null  float64\n",
      " 12  runtime            45203 non-null  float64\n",
      " 13  status             45379 non-null  object \n",
      " 14  tagline            20412 non-null  object \n",
      " 15  title              45460 non-null  object \n",
      " 16  video              45460 non-null  object \n",
      " 17  vote_average       45460 non-null  float64\n",
      " 18  vote_count         45460 non-null  float64\n",
      "dtypes: float64(4), object(15)\n",
      "memory usage: 6.6+ MB\n"
     ]
    }
   ],
   "source": [
    "movies.info()"
   ]
  },
  {
   "cell_type": "markdown",
   "id": "7f55fc21",
   "metadata": {},
   "source": [
    "### Fill in the revenue and budget fields with 0"
   ]
  },
  {
   "cell_type": "code",
   "execution_count": 63,
   "id": "c67ffb56",
   "metadata": {},
   "outputs": [
    {
     "data": {
      "text/plain": [
       "revenue\n",
       "0.0           38052\n",
       "12000000.0       20\n",
       "10000000.0       19\n",
       "11000000.0       19\n",
       "2000000.0        18\n",
       "              ...  \n",
       "320395.0          1\n",
       "50656.0           1\n",
       "1328612.0         1\n",
       "1268793.0         1\n",
       "103504.0          1\n",
       "Name: count, Length: 6863, dtype: int64"
      ]
     },
     "execution_count": 63,
     "metadata": {},
     "output_type": "execute_result"
    }
   ],
   "source": [
    "movies['revenue'].value_counts()"
   ]
  },
  {
   "cell_type": "code",
   "execution_count": 64,
   "id": "7c4f3492",
   "metadata": {},
   "outputs": [
    {
     "data": {
      "text/plain": [
       "budget\n",
       "0           36573\n",
       "5000000       286\n",
       "10000000      259\n",
       "20000000      243\n",
       "2000000       242\n",
       "            ...  \n",
       "12200000        1\n",
       "65700           1\n",
       "64200           1\n",
       "707503          1\n",
       "8620000         1\n",
       "Name: count, Length: 1226, dtype: int64"
      ]
     },
     "execution_count": 64,
     "metadata": {},
     "output_type": "execute_result"
    }
   ],
   "source": [
    "movies['budget'].value_counts()"
   ]
  },
  {
   "cell_type": "code",
   "execution_count": 65,
   "id": "a350820d",
   "metadata": {},
   "outputs": [
    {
     "data": {
      "text/plain": [
       "np.int64(6)"
      ]
     },
     "metadata": {},
     "output_type": "display_data"
    },
    {
     "data": {
      "text/plain": [
       "np.int64(0)"
      ]
     },
     "metadata": {},
     "output_type": "display_data"
    }
   ],
   "source": [
    "display(movies['revenue'].isna().sum())\n",
    "display(movies['budget'].isna().sum())"
   ]
  },
  {
   "cell_type": "code",
   "execution_count": 66,
   "id": "141ba046",
   "metadata": {},
   "outputs": [
    {
     "data": {
      "text/plain": [
       "np.int64(0)"
      ]
     },
     "metadata": {},
     "output_type": "display_data"
    },
    {
     "data": {
      "text/plain": [
       "np.int64(0)"
      ]
     },
     "metadata": {},
     "output_type": "display_data"
    }
   ],
   "source": [
    "movies[['revenue', 'budget']] = movies[['revenue', 'budget']].fillna(0)\n",
    "\n",
    "display(movies['revenue'].isna().sum())\n",
    "display(movies['budget'].isna().sum())"
   ]
  },
  {
   "cell_type": "markdown",
   "id": "5d808128",
   "metadata": {},
   "source": [
    "### Remove null values ​​from the release_date field"
   ]
  },
  {
   "cell_type": "code",
   "execution_count": 67,
   "id": "8beea82e",
   "metadata": {},
   "outputs": [
    {
     "data": {
      "text/plain": [
       "np.int64(87)"
      ]
     },
     "execution_count": 67,
     "metadata": {},
     "output_type": "execute_result"
    }
   ],
   "source": [
    "movies['release_date'].isna().sum()"
   ]
  },
  {
   "cell_type": "code",
   "execution_count": 68,
   "id": "12092dc1",
   "metadata": {},
   "outputs": [],
   "source": [
    "movies = movies.dropna(subset=['release_date'])"
   ]
  },
  {
   "cell_type": "code",
   "execution_count": 69,
   "id": "4ba22048",
   "metadata": {},
   "outputs": [
    {
     "data": {
      "text/plain": [
       "np.int64(0)"
      ]
     },
     "execution_count": 69,
     "metadata": {},
     "output_type": "execute_result"
    }
   ],
   "source": [
    "movies['release_date'].isna().sum()"
   ]
  },
  {
   "cell_type": "markdown",
   "id": "06a8e5a8",
   "metadata": {},
   "source": [
    "### Format YYYY-mm-dd and create the release_year column"
   ]
  },
  {
   "cell_type": "code",
   "execution_count": 70,
   "id": "7d556a9c",
   "metadata": {},
   "outputs": [
    {
     "data": {
      "text/plain": [
       "0    1995-10-30\n",
       "1    1995-12-15\n",
       "2    1995-12-22\n",
       "3    1995-12-22\n",
       "4    1995-02-10\n",
       "Name: release_date, dtype: object"
      ]
     },
     "execution_count": 70,
     "metadata": {},
     "output_type": "execute_result"
    }
   ],
   "source": [
    "movies['release_date'].head(5)"
   ]
  },
  {
   "cell_type": "code",
   "execution_count": 71,
   "id": "afbe7ac6",
   "metadata": {},
   "outputs": [],
   "source": [
    "movies['release_date'] = pd.to_datetime(movies['release_date'], format='%Y-%m-%d', errors='coerce')"
   ]
  },
  {
   "cell_type": "code",
   "execution_count": 72,
   "id": "a5c7e5af",
   "metadata": {},
   "outputs": [
    {
     "data": {
      "text/plain": [
       "np.int64(3)"
      ]
     },
     "execution_count": 72,
     "metadata": {},
     "output_type": "execute_result"
    }
   ],
   "source": [
    "movies['release_date'].isna().sum()"
   ]
  },
  {
   "cell_type": "code",
   "execution_count": 73,
   "id": "2dd9ce24",
   "metadata": {},
   "outputs": [
    {
     "data": {
      "text/html": [
       "<div>\n",
       "<style scoped>\n",
       "    .dataframe tbody tr th:only-of-type {\n",
       "        vertical-align: middle;\n",
       "    }\n",
       "\n",
       "    .dataframe tbody tr th {\n",
       "        vertical-align: top;\n",
       "    }\n",
       "\n",
       "    .dataframe thead th {\n",
       "        text-align: right;\n",
       "    }\n",
       "</style>\n",
       "<table border=\"1\" class=\"dataframe\">\n",
       "  <thead>\n",
       "    <tr style=\"text-align: right;\">\n",
       "      <th></th>\n",
       "      <th>adult</th>\n",
       "      <th>budget</th>\n",
       "      <th>homepage</th>\n",
       "      <th>id</th>\n",
       "      <th>imdb_id</th>\n",
       "      <th>original_language</th>\n",
       "      <th>original_title</th>\n",
       "      <th>overview</th>\n",
       "      <th>popularity</th>\n",
       "      <th>poster_path</th>\n",
       "      <th>release_date</th>\n",
       "      <th>revenue</th>\n",
       "      <th>runtime</th>\n",
       "      <th>status</th>\n",
       "      <th>tagline</th>\n",
       "      <th>title</th>\n",
       "      <th>video</th>\n",
       "      <th>vote_average</th>\n",
       "      <th>vote_count</th>\n",
       "    </tr>\n",
       "  </thead>\n",
       "  <tbody>\n",
       "    <tr>\n",
       "      <th>19730</th>\n",
       "      <td>- Written by Ørnås</td>\n",
       "      <td>/ff9qCepilowshEtG2GYWwzt2bs4.jpg</td>\n",
       "      <td>[{'iso_3166_1': 'CA', 'name': 'Canada'}, {'iso...</td>\n",
       "      <td>1997-08-20</td>\n",
       "      <td>0</td>\n",
       "      <td>104.0</td>\n",
       "      <td>[{'iso_639_1': 'en', 'name': 'English'}]</td>\n",
       "      <td>Released</td>\n",
       "      <td>NaN</td>\n",
       "      <td>Midnight Man</td>\n",
       "      <td>NaT</td>\n",
       "      <td>0.0</td>\n",
       "      <td>NaN</td>\n",
       "      <td>NaN</td>\n",
       "      <td>NaN</td>\n",
       "      <td>NaN</td>\n",
       "      <td>NaN</td>\n",
       "      <td>NaN</td>\n",
       "      <td>NaN</td>\n",
       "    </tr>\n",
       "    <tr>\n",
       "      <th>29503</th>\n",
       "      <td>Rune Balot goes to a casino connected to the ...</td>\n",
       "      <td>/zV8bHuSL6WXoD6FWogP9j4x80bL.jpg</td>\n",
       "      <td>[{'iso_3166_1': 'US', 'name': 'United States o...</td>\n",
       "      <td>2012-09-29</td>\n",
       "      <td>0</td>\n",
       "      <td>68.0</td>\n",
       "      <td>[{'iso_639_1': 'ja', 'name': '日本語'}]</td>\n",
       "      <td>Released</td>\n",
       "      <td>NaN</td>\n",
       "      <td>Mardock Scramble: The Third Exhaust</td>\n",
       "      <td>NaT</td>\n",
       "      <td>0.0</td>\n",
       "      <td>NaN</td>\n",
       "      <td>NaN</td>\n",
       "      <td>NaN</td>\n",
       "      <td>NaN</td>\n",
       "      <td>NaN</td>\n",
       "      <td>NaN</td>\n",
       "      <td>NaN</td>\n",
       "    </tr>\n",
       "    <tr>\n",
       "      <th>35587</th>\n",
       "      <td>Avalanche Sharks tells the story of a bikini ...</td>\n",
       "      <td>/zaSf5OG7V8X8gqFvly88zDdRm46.jpg</td>\n",
       "      <td>[{'iso_3166_1': 'CA', 'name': 'Canada'}]</td>\n",
       "      <td>2014-01-01</td>\n",
       "      <td>0</td>\n",
       "      <td>82.0</td>\n",
       "      <td>[{'iso_639_1': 'en', 'name': 'English'}]</td>\n",
       "      <td>Released</td>\n",
       "      <td>Beware Of Frost Bites</td>\n",
       "      <td>Avalanche Sharks</td>\n",
       "      <td>NaT</td>\n",
       "      <td>0.0</td>\n",
       "      <td>NaN</td>\n",
       "      <td>NaN</td>\n",
       "      <td>NaN</td>\n",
       "      <td>NaN</td>\n",
       "      <td>NaN</td>\n",
       "      <td>NaN</td>\n",
       "      <td>NaN</td>\n",
       "    </tr>\n",
       "  </tbody>\n",
       "</table>\n",
       "</div>"
      ],
      "text/plain": [
       "                                                   adult  \\\n",
       "19730                                 - Written by Ørnås   \n",
       "29503   Rune Balot goes to a casino connected to the ...   \n",
       "35587   Avalanche Sharks tells the story of a bikini ...   \n",
       "\n",
       "                                 budget  \\\n",
       "19730  /ff9qCepilowshEtG2GYWwzt2bs4.jpg   \n",
       "29503  /zV8bHuSL6WXoD6FWogP9j4x80bL.jpg   \n",
       "35587  /zaSf5OG7V8X8gqFvly88zDdRm46.jpg   \n",
       "\n",
       "                                                homepage          id imdb_id  \\\n",
       "19730  [{'iso_3166_1': 'CA', 'name': 'Canada'}, {'iso...  1997-08-20       0   \n",
       "29503  [{'iso_3166_1': 'US', 'name': 'United States o...  2012-09-29       0   \n",
       "35587           [{'iso_3166_1': 'CA', 'name': 'Canada'}]  2014-01-01       0   \n",
       "\n",
       "      original_language                            original_title  overview  \\\n",
       "19730             104.0  [{'iso_639_1': 'en', 'name': 'English'}]  Released   \n",
       "29503              68.0      [{'iso_639_1': 'ja', 'name': '日本語'}]  Released   \n",
       "35587              82.0  [{'iso_639_1': 'en', 'name': 'English'}]  Released   \n",
       "\n",
       "                  popularity                          poster_path  \\\n",
       "19730                    NaN                         Midnight Man   \n",
       "29503                    NaN  Mardock Scramble: The Third Exhaust   \n",
       "35587  Beware Of Frost Bites                     Avalanche Sharks   \n",
       "\n",
       "      release_date  revenue  runtime status tagline title video  vote_average  \\\n",
       "19730          NaT      0.0      NaN    NaN     NaN   NaN   NaN           NaN   \n",
       "29503          NaT      0.0      NaN    NaN     NaN   NaN   NaN           NaN   \n",
       "35587          NaT      0.0      NaN    NaN     NaN   NaN   NaN           NaN   \n",
       "\n",
       "       vote_count  \n",
       "19730         NaN  \n",
       "29503         NaN  \n",
       "35587         NaN  "
      ]
     },
     "execution_count": 73,
     "metadata": {},
     "output_type": "execute_result"
    }
   ],
   "source": [
    "movies[movies['release_date'].isna()]"
   ]
  },
  {
   "cell_type": "code",
   "execution_count": 74,
   "id": "feae9a03",
   "metadata": {},
   "outputs": [
    {
     "data": {
      "text/plain": [
       "np.int64(0)"
      ]
     },
     "execution_count": 74,
     "metadata": {},
     "output_type": "execute_result"
    }
   ],
   "source": [
    "movies = movies.dropna(subset=['release_date'])\n",
    "\n",
    "movies['release_date'].isna().sum()"
   ]
  },
  {
   "cell_type": "code",
   "execution_count": 75,
   "id": "1d055d86",
   "metadata": {},
   "outputs": [
    {
     "data": {
      "text/plain": [
       "0    1995\n",
       "1    1995\n",
       "2    1995\n",
       "3    1995\n",
       "4    1995\n",
       "Name: release_year, dtype: int32"
      ]
     },
     "execution_count": 75,
     "metadata": {},
     "output_type": "execute_result"
    }
   ],
   "source": [
    "movies['release_year'] = pd.to_datetime(movies['release_date']).dt.year\n",
    "\n",
    "movies['release_year'].head(5)"
   ]
  },
  {
   "cell_type": "markdown",
   "id": "8891bd36",
   "metadata": {},
   "source": [
    "### Create return column"
   ]
  },
  {
   "cell_type": "code",
   "execution_count": 76,
   "id": "95228a92",
   "metadata": {},
   "outputs": [
    {
     "data": {
      "text/html": [
       "<div>\n",
       "<style scoped>\n",
       "    .dataframe tbody tr th:only-of-type {\n",
       "        vertical-align: middle;\n",
       "    }\n",
       "\n",
       "    .dataframe tbody tr th {\n",
       "        vertical-align: top;\n",
       "    }\n",
       "\n",
       "    .dataframe thead th {\n",
       "        text-align: right;\n",
       "    }\n",
       "</style>\n",
       "<table border=\"1\" class=\"dataframe\">\n",
       "  <thead>\n",
       "    <tr style=\"text-align: right;\">\n",
       "      <th></th>\n",
       "      <th>revenue</th>\n",
       "      <th>budget</th>\n",
       "      <th>return</th>\n",
       "    </tr>\n",
       "  </thead>\n",
       "  <tbody>\n",
       "    <tr>\n",
       "      <th>0</th>\n",
       "      <td>373554033</td>\n",
       "      <td>30000000</td>\n",
       "      <td>12</td>\n",
       "    </tr>\n",
       "    <tr>\n",
       "      <th>1</th>\n",
       "      <td>262797249</td>\n",
       "      <td>65000000</td>\n",
       "      <td>4</td>\n",
       "    </tr>\n",
       "    <tr>\n",
       "      <th>2</th>\n",
       "      <td>0</td>\n",
       "      <td>0</td>\n",
       "      <td>0</td>\n",
       "    </tr>\n",
       "    <tr>\n",
       "      <th>3</th>\n",
       "      <td>81452156</td>\n",
       "      <td>16000000</td>\n",
       "      <td>5</td>\n",
       "    </tr>\n",
       "    <tr>\n",
       "      <th>4</th>\n",
       "      <td>76578911</td>\n",
       "      <td>0</td>\n",
       "      <td>0</td>\n",
       "    </tr>\n",
       "  </tbody>\n",
       "</table>\n",
       "</div>"
      ],
      "text/plain": [
       "     revenue    budget  return\n",
       "0  373554033  30000000      12\n",
       "1  262797249  65000000       4\n",
       "2          0         0       0\n",
       "3   81452156  16000000       5\n",
       "4   76578911         0       0"
      ]
     },
     "metadata": {},
     "output_type": "display_data"
    },
    {
     "name": "stdout",
     "output_type": "stream",
     "text": [
      "\n"
     ]
    },
    {
     "data": {
      "text/plain": [
       "return\n",
       "0       41600\n",
       "1        1021\n",
       "2         810\n",
       "3         497\n",
       "4         341\n",
       "        ...  \n",
       "426         1\n",
       "69          1\n",
       "2216        1\n",
       "50          1\n",
       "155         1\n",
       "Name: count, Length: 113, dtype: int64"
      ]
     },
     "metadata": {},
     "output_type": "display_data"
    }
   ],
   "source": [
    "movies['revenue'] = pd.to_numeric(movies['revenue']).astype(int)\n",
    "movies['budget'] = pd.to_numeric(movies['budget']).astype(int)\n",
    "\n",
    "movies['return'] = np.where((movies['revenue'] == 0) | (movies['budget'] == 0), 0, movies['revenue'] // movies['budget']).astype(int)\n",
    "\n",
    "display(movies[['revenue', 'budget', 'return']].head(5))\n",
    "print()\n",
    "display(movies['return'].value_counts())"
   ]
  },
  {
   "cell_type": "markdown",
   "id": "7d69a054",
   "metadata": {},
   "source": [
    "### Delete unnecessary columns"
   ]
  },
  {
   "cell_type": "code",
   "execution_count": 77,
   "id": "3236c878",
   "metadata": {},
   "outputs": [
    {
     "data": {
      "text/plain": [
       "Index(['adult', 'budget', 'homepage', 'id', 'imdb_id', 'original_language',\n",
       "       'original_title', 'overview', 'popularity', 'poster_path',\n",
       "       'release_date', 'revenue', 'runtime', 'status', 'tagline', 'title',\n",
       "       'video', 'vote_average', 'vote_count', 'release_year', 'return'],\n",
       "      dtype='object')"
      ]
     },
     "execution_count": 77,
     "metadata": {},
     "output_type": "execute_result"
    }
   ],
   "source": [
    "movies.columns"
   ]
  },
  {
   "cell_type": "code",
   "execution_count": 78,
   "id": "65fcc344",
   "metadata": {},
   "outputs": [],
   "source": [
    "movies = movies.drop(columns=[\"video\", \"imdb_id\", \"adult\", \"original_title\", \"poster_path\", \"homepage\"])"
   ]
  },
  {
   "cell_type": "code",
   "execution_count": 79,
   "id": "51997760",
   "metadata": {},
   "outputs": [
    {
     "data": {
      "text/plain": [
       "Index(['budget', 'id', 'original_language', 'overview', 'popularity',\n",
       "       'release_date', 'revenue', 'runtime', 'status', 'tagline', 'title',\n",
       "       'vote_average', 'vote_count', 'release_year', 'return'],\n",
       "      dtype='object')"
      ]
     },
     "execution_count": 79,
     "metadata": {},
     "output_type": "execute_result"
    }
   ],
   "source": [
    "movies.columns"
   ]
  }
 ],
 "metadata": {
  "kernelspec": {
   "display_name": "venv",
   "language": "python",
   "name": "python3"
  },
  "language_info": {
   "codemirror_mode": {
    "name": "ipython",
    "version": 3
   },
   "file_extension": ".py",
   "mimetype": "text/x-python",
   "name": "python",
   "nbconvert_exporter": "python",
   "pygments_lexer": "ipython3",
   "version": "3.12.0"
  }
 },
 "nbformat": 4,
 "nbformat_minor": 5
}
